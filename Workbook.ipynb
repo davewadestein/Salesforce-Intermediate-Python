{
 "cells": [
  {
   "cell_type": "markdown",
   "id": "43175de3-4043-4b4b-8b8e-2bd3df7e4d55",
   "metadata": {},
   "source": [
    "# Some Additional Things About Python\n",
    "* case sensitive\n",
    "* use all lower case or snake_case to name variables and functions\n",
    "* use all UPPER CASE for \"constants\""
   ]
  },
  {
   "cell_type": "markdown",
   "id": "9ca4557e-bac4-44b7-b900-b94322888938",
   "metadata": {},
   "source": [
    "# Some Things About Programming in General\n",
    "* you read code 10x more than you write code, so...\n",
    "  * pick good variable names\n",
    "    * __`cost_per_ounce`__ is better than __`cpo`__\n",
    "    * use plurals for containers, singular for items\n",
    "  * Hal Abelson: \"Code is written to be read by other people, and only incidentally executed by the machine\"\n",
    "    * Eagleson's Law: Any code you wrote more than 6 months ago, might as well have been written by someone else\n",
    "* software would be easy if it weren't for the CUSTOMER\n"
   ]
  },
  {
   "cell_type": "markdown",
   "id": "a03b1cac-7502-4523-8016-a81074cdf096",
   "metadata": {},
   "source": [
    "# Duck Typing\n",
    "* a duck-typed function doesn't care about the type of its argument, but rather it cares that its argument exhbits some behavior or feature or attribute\n",
    "  * __`len()`__ requires iterability\n",
    "  * __`sorted()`__ requires a container/iterable\n",
    "  * __`sum()`__ requires an iterable that has numbers"
   ]
  },
  {
   "cell_type": "code",
   "execution_count": null,
   "id": "0d625457-61d8-459e-ae99-c357eaa8ae61",
   "metadata": {},
   "outputs": [],
   "source": [
    "def iterate(container):\n",
    "    \"\"\"iterate through each item in the container and print it out.\"\"\"\n",
    "    for thing in container:\n",
    "        print(thing, end=' ')"
   ]
  },
  {
   "cell_type": "code",
   "execution_count": null,
   "id": "8a505ab0-5749-4d3a-a236-b41116bd7bde",
   "metadata": {},
   "outputs": [],
   "source": [
    "iterate([1, 2, 5])"
   ]
  },
  {
   "cell_type": "code",
   "execution_count": null,
   "id": "6f3ed811-4d0c-406c-ada8-b6b480cd509b",
   "metadata": {},
   "outputs": [],
   "source": [
    "iterate(1)"
   ]
  },
  {
   "cell_type": "code",
   "execution_count": null,
   "id": "1b9b5c8f-eb53-4a5b-9878-ec2af951025d",
   "metadata": {},
   "outputs": [],
   "source": [
    "def iterate(container):\n",
    "    \"\"\"iterate through each item in the container and print it out.\"\"\"\n",
    "    \n",
    "    try:\n",
    "        for thing in container: # this could fail, if container is not really a container\n",
    "            print(thing, end=' ')\n",
    "    except TypeError:\n",
    "        print(container, 'is not an iterable')"
   ]
  },
  {
   "cell_type": "code",
   "execution_count": null,
   "id": "57fa4df2-cec6-4088-8543-857690acd864",
   "metadata": {},
   "outputs": [],
   "source": [
    "iterate(1)"
   ]
  },
  {
   "cell_type": "code",
   "execution_count": null,
   "id": "7e87e59a-8bb0-49fd-ab58-84c99c5eb644",
   "metadata": {},
   "outputs": [],
   "source": [
    "iterate('123')"
   ]
  },
  {
   "cell_type": "markdown",
   "id": "2cdc3824-50bf-48b6-9dd9-8f515bf7404f",
   "metadata": {},
   "source": [
    "# Methods\n",
    "* are functions that operate only one a single datatype\n",
    "* and they are called with the dotted notation, i.e., object.method(args)\n",
    "* can change the object they are called on/invoked on/applied to"
   ]
  },
  {
   "cell_type": "code",
   "execution_count": null,
   "id": "a5963a4c-29e1-4e58-bfdf-e9da2cdcdf3f",
   "metadata": {},
   "outputs": [],
   "source": [
    "company_name = 'salesforce'\n",
    "sorted(company_name) # container or iterable\n",
    "# does company_name change?\n",
    "# what will the output/return value of sorted() be?"
   ]
  },
  {
   "cell_type": "code",
   "execution_count": null,
   "id": "292e86dc-b4cb-475b-be7f-fb73be65e366",
   "metadata": {},
   "outputs": [],
   "source": [
    "company_name"
   ]
  },
  {
   "cell_type": "code",
   "execution_count": null,
   "id": "f775a250-486d-43da-8021-29b53007ddb3",
   "metadata": {},
   "outputs": [],
   "source": [
    "for thing in company_name:\n",
    "    print(thing)"
   ]
  },
  {
   "cell_type": "code",
   "execution_count": null,
   "id": "fb6648e8-f602-4294-b47f-4404883d94ef",
   "metadata": {},
   "outputs": [],
   "source": [
    "print() # print ZERO objects"
   ]
  },
  {
   "cell_type": "code",
   "execution_count": null,
   "id": "0192af76-5500-47dd-94ea-06631eb01f02",
   "metadata": {},
   "outputs": [],
   "source": [
    "print(1, 2, 3, 4) # print FOUR objects"
   ]
  },
  {
   "cell_type": "code",
   "execution_count": null,
   "id": "5a699322-65db-452f-bac6-079158e0d83e",
   "metadata": {},
   "outputs": [],
   "source": [
    "nums = [1, 3, 2, 0]"
   ]
  },
  {
   "cell_type": "code",
   "execution_count": null,
   "id": "1e96ae91-471a-4cf2-803f-e312e425f663",
   "metadata": {},
   "outputs": [],
   "source": [
    "print(nums)"
   ]
  },
  {
   "cell_type": "code",
   "execution_count": null,
   "id": "689507a4-d067-4244-bca0-3ea14814d15f",
   "metadata": {},
   "outputs": [],
   "source": [
    "sorted_nums = sorted(nums) # makes a brand new sorted list, leaves the original alone"
   ]
  },
  {
   "cell_type": "code",
   "execution_count": null,
   "id": "4152e110-36b0-4712-b077-d9af896fb487",
   "metadata": {},
   "outputs": [],
   "source": [
    "nums"
   ]
  },
  {
   "cell_type": "code",
   "execution_count": null,
   "id": "a4fd267d-38e4-470e-842d-b58b01d03fc7",
   "metadata": {},
   "outputs": [],
   "source": [
    "nums.sort() # .sort() is a method, i.e., a list-specific function to sort a list in place"
   ]
  },
  {
   "cell_type": "code",
   "execution_count": null,
   "id": "7626193c-7d13-4b37-8e84-9b19518b189d",
   "metadata": {},
   "outputs": [],
   "source": [
    "nums"
   ]
  },
  {
   "cell_type": "code",
   "execution_count": null,
   "id": "1bca1215-0058-414e-a507-a1bbb1850bca",
   "metadata": {},
   "outputs": [],
   "source": [
    "min(4, 5, 3)"
   ]
  },
  {
   "cell_type": "code",
   "execution_count": null,
   "id": "3f27ff93-1b9a-4388-ac77-e429fcfa7459",
   "metadata": {},
   "outputs": [],
   "source": [
    "min(4.1, 5.1, 3.0)"
   ]
  },
  {
   "cell_type": "code",
   "execution_count": null,
   "id": "bf64ec57-9653-455c-a0b7-29dc871bbd87",
   "metadata": {},
   "outputs": [],
   "source": [
    "sum([1, 2])"
   ]
  },
  {
   "cell_type": "code",
   "execution_count": null,
   "id": "73112fd0-7739-4d27-9c44-7ae869068a1d",
   "metadata": {},
   "outputs": [],
   "source": [
    "nums"
   ]
  },
  {
   "cell_type": "code",
   "execution_count": null,
   "id": "b41d0f4a-86e2-4b04-8821-5200a2da8453",
   "metadata": {},
   "outputs": [],
   "source": [
    "nums.append(1) # mutator method, changes the object "
   ]
  },
  {
   "cell_type": "code",
   "execution_count": null,
   "id": "755bc68e-2a01-42d5-9cfd-e345c0254b5b",
   "metadata": {},
   "outputs": [],
   "source": [
    "nums"
   ]
  },
  {
   "cell_type": "code",
   "execution_count": null,
   "id": "3bf46a48-0e1e-4cc1-9efe-3bff3d043e06",
   "metadata": {},
   "outputs": [],
   "source": [
    "nums.count(1) # \"inspector\" method, looks at the object but does not change it"
   ]
  },
  {
   "cell_type": "markdown",
   "id": "3318608d-9204-4483-b8bb-548443ba0b72",
   "metadata": {},
   "source": [
    "## \"Truthiness\"\n",
    "* Python lets us use non-Booleans in a Boolean context\n",
    "* What are the rules?\n",
    "  * non-zero values (including negative) are considered True in a Boolean context\n",
    "  * 0 and 0.0 are considered False in a Boolean context\n",
    "  * non-empty containers are considered True \" \" \" \"\n",
    "  * empty containers are considered False \" \" \" \"\n",
    "  * None is considered False"
   ]
  },
  {
   "cell_type": "code",
   "execution_count": null,
   "id": "986b9011-04d1-4cf7-ae2a-1f1db456542b",
   "metadata": {},
   "outputs": [],
   "source": [
    "if 5 > 4: # True\n",
    "    print('yes')\n",
    "    print('yes!')"
   ]
  },
  {
   "cell_type": "code",
   "execution_count": null,
   "id": "37abd00a-67e1-4f9c-ac7f-82d85a50e561",
   "metadata": {},
   "outputs": [],
   "source": [
    "5 > 4"
   ]
  },
  {
   "cell_type": "code",
   "execution_count": null,
   "id": "f3082226-5b32-4aa2-927e-5d34b90f00ad",
   "metadata": {},
   "outputs": [],
   "source": [
    "value = 0.0"
   ]
  },
  {
   "cell_type": "code",
   "execution_count": null,
   "id": "e6587773-4395-4321-ae6f-f67b6178e2a6",
   "metadata": {},
   "outputs": [],
   "source": [
    "if value: # \"if value is != 0\"\n",
    "    print('yes')"
   ]
  },
  {
   "cell_type": "code",
   "execution_count": null,
   "id": "72f82d9a-c296-43aa-ad14-414fdc7001f7",
   "metadata": {},
   "outputs": [],
   "source": [
    "nums = []"
   ]
  },
  {
   "cell_type": "code",
   "execution_count": null,
   "id": "13d03626-4842-484e-9e07-bfa02a19e364",
   "metadata": {},
   "outputs": [],
   "source": [
    "# ...\n",
    "if nums: # \"if nums is NOT empty\"\n",
    "    print(nums)"
   ]
  },
  {
   "cell_type": "code",
   "execution_count": null,
   "id": "26959d9b-4e47-4083-a904-05c2ba9418be",
   "metadata": {},
   "outputs": [],
   "source": [
    "if len(nums) > 0: # you would be not Pythonic, you would be a Java programmer\n",
    "    print(nums)"
   ]
  },
  {
   "cell_type": "code",
   "execution_count": null,
   "id": "f816a9c1-f335-4482-8efa-26c2acc99de9",
   "metadata": {},
   "outputs": [],
   "source": [
    "if not nums: # Pythonic, \"if there is nothing in the nums container\"\n",
    "    print('no numbers in the nums list')"
   ]
  },
  {
   "cell_type": "code",
   "execution_count": null,
   "id": "a4056795-88d6-4796-b42d-f2afd387bc09",
   "metadata": {},
   "outputs": [],
   "source": [
    "nums = None"
   ]
  },
  {
   "cell_type": "code",
   "execution_count": null,
   "id": "1aaab099-c3bb-4014-9302-05ddebc37ca5",
   "metadata": {},
   "outputs": [],
   "source": [
    "if nums: # \"is nums non-zero or a non-empty container?\"\n",
    "    print('non-zero number or non-empty container')\n",
    "else:\n",
    "    print('0 or 0.0 or empty container or None')"
   ]
  },
  {
   "cell_type": "code",
   "execution_count": null,
   "id": "ace9c1a5-a851-4a04-a528-f4603ad34652",
   "metadata": {},
   "outputs": [],
   "source": [
    "name = input('Enter your name: ')"
   ]
  },
  {
   "cell_type": "code",
   "execution_count": null,
   "id": "2411e5ad-730d-4445-948b-50ba1a89a754",
   "metadata": {},
   "outputs": [],
   "source": [
    "name"
   ]
  },
  {
   "cell_type": "code",
   "execution_count": null,
   "id": "49c39242-4d1a-4911-9338-e17780a1c553",
   "metadata": {},
   "outputs": [],
   "source": [
    "len(name)"
   ]
  },
  {
   "cell_type": "code",
   "execution_count": null,
   "id": "c12c63a5-c2e8-4695-976b-6edc3c009d15",
   "metadata": {},
   "outputs": [],
   "source": [
    "if name: # \"is this string non-empty?, i.e., did they even enter anything?\"\n",
    "    print('Nice to meet you,', name)\n",
    "else:\n",
    "    print('No name entered. I am reporting you!')"
   ]
  },
  {
   "cell_type": "markdown",
   "id": "9b925efb-3340-43a5-a15f-ea03cd63a154",
   "metadata": {},
   "source": [
    "## Slicing (__`[start:stop:step]`__)\n",
    "* Edsger Dijkstra\n",
    "* all of the 'st' are optional!"
   ]
  },
  {
   "cell_type": "code",
   "execution_count": null,
   "id": "2ec29822-93ff-4843-94d2-49307e62de7c",
   "metadata": {},
   "outputs": [],
   "source": [
    "alphabet = 'abcdefghijklmnopqrstuvwxyz'\n",
    "          # 01234567890123456789012345\n",
    "          #                        321-"
   ]
  },
  {
   "cell_type": "code",
   "execution_count": null,
   "id": "973b96d7-585f-429a-a54b-574131749710",
   "metadata": {},
   "outputs": [],
   "source": [
    "alphabet[0] # \"alphabet of 0\""
   ]
  },
  {
   "cell_type": "code",
   "execution_count": null,
   "id": "8f3556c7-dbda-4995-baf0-0a3c7db67d7c",
   "metadata": {},
   "outputs": [],
   "source": [
    "alphabet[25]"
   ]
  },
  {
   "cell_type": "code",
   "execution_count": null,
   "id": "7910671a-1fc2-4904-9aaa-e0042ec27f93",
   "metadata": {},
   "outputs": [],
   "source": [
    "alphabet[-3]"
   ]
  },
  {
   "cell_type": "code",
   "execution_count": null,
   "id": "ad752909-5b00-4588-9963-5187f653c4c8",
   "metadata": {},
   "outputs": [],
   "source": [
    "alphabet[10:15] # refers to a \"slice\" or substring"
   ]
  },
  {
   "cell_type": "code",
   "execution_count": null,
   "id": "6ef6b4bc-f202-4eb3-89f9-ffe579fcd5c1",
   "metadata": {},
   "outputs": [],
   "source": [
    "alphabet[:5] # leaving out 'start' means start at 0"
   ]
  },
  {
   "cell_type": "code",
   "execution_count": null,
   "id": "3180c874-fa42-472b-9b0f-4cd27909be3b",
   "metadata": {},
   "outputs": [],
   "source": [
    "alphabet[22:] # leaving out 'stop' means go thru the end, inclusive"
   ]
  },
  {
   "cell_type": "code",
   "execution_count": null,
   "id": "796df587-0af0-4812-b5de-56733a23d221",
   "metadata": {},
   "outputs": [],
   "source": [
    "alphabet[-4:] # give me the last 4"
   ]
  },
  {
   "cell_type": "code",
   "execution_count": null,
   "id": "509aea82-ee23-4722-a496-4301d3b762b9",
   "metadata": {},
   "outputs": [],
   "source": [
    "alphabet[16:3:-1]"
   ]
  },
  {
   "cell_type": "code",
   "execution_count": null,
   "id": "a4359e9c-0d37-4bda-a41d-4d0f6890ff9c",
   "metadata": {},
   "outputs": [],
   "source": [
    "alphabet[-3:-1]"
   ]
  },
  {
   "cell_type": "code",
   "execution_count": null,
   "id": "ca6e4e10-2126-47fd-97d2-03b40ca423e5",
   "metadata": {},
   "outputs": [],
   "source": [
    "alphabet[45:60]"
   ]
  },
  {
   "cell_type": "code",
   "execution_count": null,
   "id": "87560438-6621-401e-8308-eecc6af19050",
   "metadata": {},
   "outputs": [],
   "source": [
    "alphabet[::-1] # start at beginning, go thru end, by -1 (not possible) so it means end to beginning"
   ]
  },
  {
   "cell_type": "code",
   "execution_count": null,
   "id": "c228af38-6bb8-4dd9-a073-f5aaf41f9a4d",
   "metadata": {},
   "outputs": [],
   "source": [
    "[1, 2, 3, 9, 18, 23][-1]"
   ]
  },
  {
   "cell_type": "code",
   "execution_count": null,
   "id": "6d511a6c-37fa-4374-a8d8-2c946db0e83a",
   "metadata": {},
   "outputs": [],
   "source": [
    "for num in range(1, 11):\n",
    "    print(num)"
   ]
  },
  {
   "cell_type": "code",
   "execution_count": null,
   "id": "4fbda1b0-4fc8-4c4b-a4f8-725fc8ca90e3",
   "metadata": {},
   "outputs": [],
   "source": [
    "for num in range(10, 0, -1):\n",
    "    print(num)"
   ]
  },
  {
   "cell_type": "code",
   "execution_count": null,
   "id": "e4ae13ba-79da-4b6b-9839-7a63ba0959de",
   "metadata": {},
   "outputs": [],
   "source": [
    "big_string = \"\"\"\n",
    "Have embedded carriage returns in this string.\n",
    "More text.\n",
    "\n",
    "\n",
    "Blank line.\n",
    "etc.\n",
    "\"\"\""
   ]
  },
  {
   "cell_type": "code",
   "execution_count": null,
   "id": "0060b3dc-42ef-41da-8563-9ac0795ab58f",
   "metadata": {},
   "outputs": [],
   "source": [
    "print(big_string)"
   ]
  },
  {
   "cell_type": "code",
   "execution_count": null,
   "id": "65081e98-ab60-4a86-8844-e19c85694b40",
   "metadata": {},
   "outputs": [],
   "source": [
    "name = 'Margaret Hamilton'"
   ]
  },
  {
   "cell_type": "code",
   "execution_count": null,
   "id": "1050c854-e3fa-4922-b715-dc4ef26f6f46",
   "metadata": {},
   "outputs": [],
   "source": [
    "print(name)\n",
    "\n",
    "\"\"\"\n",
    "compute = 3 * 4 + len(name)\n",
    "print(compute)\n",
    "\"\"\"\n",
    "\n",
    "print('end of code')"
   ]
  },
  {
   "cell_type": "markdown",
   "id": "5b4f9d3a-a333-4f63-8d68-833b5e7da136",
   "metadata": {},
   "source": [
    "# Triple-Quoted Strings have 3 purposes:\n",
    "1. easy multi-line string\n",
    "1. comment out a bunch of code by triple quoting before and after\n",
    "1. docstring for a function which shows up when we call __`help()`__ on it"
   ]
  },
  {
   "cell_type": "code",
   "execution_count": null,
   "id": "886017df-e3f6-497f-9e78-86c83179c699",
   "metadata": {},
   "outputs": [],
   "source": [
    "import math"
   ]
  },
  {
   "cell_type": "code",
   "execution_count": null,
   "id": "40e8d478-490a-45d2-b20f-5946327a61ba",
   "metadata": {},
   "outputs": [],
   "source": [
    "help(math.cos)"
   ]
  },
  {
   "cell_type": "code",
   "execution_count": null,
   "id": "95d263c7-d870-4c2d-8b66-e47576ecee9b",
   "metadata": {},
   "outputs": [],
   "source": [
    "string = '' # empty string"
   ]
  },
  {
   "cell_type": "code",
   "execution_count": null,
   "id": "f1655e34-c36d-45d3-8e05-97c4ef813cce",
   "metadata": {},
   "outputs": [],
   "source": [
    "nothing = None"
   ]
  },
  {
   "cell_type": "code",
   "execution_count": null,
   "id": "45b25cec-5034-46d6-8781-29d985f555da",
   "metadata": {},
   "outputs": [],
   "source": [
    "import keyword\n",
    "print(keyword.kwlist)"
   ]
  },
  {
   "cell_type": "code",
   "execution_count": null,
   "id": "e5632e8c-a883-425f-bea7-3a81e5624ebb",
   "metadata": {},
   "outputs": [],
   "source": [
    "def func():\n",
    "    \"\"\"Docstring.\"\"\""
   ]
  },
  {
   "cell_type": "code",
   "execution_count": null,
   "id": "b2b77a79-c70d-4e82-9def-6a8c01e0af03",
   "metadata": {},
   "outputs": [],
   "source": [
    "ret = func()"
   ]
  },
  {
   "cell_type": "code",
   "execution_count": null,
   "id": "f24649c1-349a-40ad-b327-108392116086",
   "metadata": {},
   "outputs": [],
   "source": [
    "if ret == None: # do these two object contain the same value?\n",
    "    print('got nothing back')"
   ]
  },
  {
   "cell_type": "code",
   "execution_count": null,
   "id": "86de9469-658b-4316-81cf-02bf4eeca186",
   "metadata": {},
   "outputs": [],
   "source": [
    "if ret is None: #\n",
    "    print('it is None')"
   ]
  },
  {
   "cell_type": "markdown",
   "id": "5e97778c-bd46-491b-bfc4-bab70c3dbe11",
   "metadata": {},
   "source": [
    "## f-strings\n",
    "* strings that have an __`f`__ (or __`F`__) before the quotes\n",
    "* braces represent expressions that Python will substitute for us within the f-string"
   ]
  },
  {
   "cell_type": "code",
   "execution_count": null,
   "id": "0adb616f-fbcc-4763-9a01-d68f1e8ef560",
   "metadata": {},
   "outputs": [],
   "source": [
    "name = 'Dave'\n",
    "value = 13"
   ]
  },
  {
   "cell_type": "code",
   "execution_count": null,
   "id": "f551de70-3be8-4cf8-95b4-422c580a7e2e",
   "metadata": {},
   "outputs": [],
   "source": [
    "print('Your name is', name, 'and the value is', value)"
   ]
  },
  {
   "cell_type": "code",
   "execution_count": null,
   "id": "31f3da03-53fd-4b1e-8142-bfde900f6f31",
   "metadata": {},
   "outputs": [],
   "source": [
    "print(f'Your name is {name} and the value is {value}')"
   ]
  },
  {
   "cell_type": "code",
   "execution_count": null,
   "id": "1f2efce9-e89d-405d-88b2-e5d0f3ab63cd",
   "metadata": {},
   "outputs": [],
   "source": [
    "print(f'2 * {value} = {2 * value}')"
   ]
  },
  {
   "cell_type": "code",
   "execution_count": null,
   "id": "dafc437d-a8a7-42ab-9bd4-0ae37bb3942a",
   "metadata": {},
   "outputs": [],
   "source": [
    "import math"
   ]
  },
  {
   "cell_type": "code",
   "execution_count": null,
   "id": "bf13a4fa-5c8c-40b7-8eb9-548c256c5936",
   "metadata": {},
   "outputs": [],
   "source": [
    "number = 52"
   ]
  },
  {
   "cell_type": "code",
   "execution_count": null,
   "id": "d3aea570-5e46-4233-96d1-2d39224d27b2",
   "metadata": {},
   "outputs": [],
   "source": [
    "print(f'{number}! = {math.factorial(number)}')"
   ]
  },
  {
   "cell_type": "code",
   "execution_count": null,
   "id": "7259e8ff-e8ab-4765-8496-c4fa12cc5198",
   "metadata": {},
   "outputs": [],
   "source": [
    "dir()"
   ]
  },
  {
   "cell_type": "code",
   "execution_count": null,
   "id": "bb4f7b1a-4d4f-43fd-af90-7c51b9c82087",
   "metadata": {},
   "outputs": [],
   "source": [
    "import math"
   ]
  },
  {
   "cell_type": "code",
   "execution_count": null,
   "id": "9ef8fb52-68a7-4404-866b-c1e67fd94b34",
   "metadata": {},
   "outputs": [],
   "source": [
    "dir()"
   ]
  },
  {
   "cell_type": "code",
   "execution_count": null,
   "id": "b9b765db-da6b-4087-afdc-96cd260e24fa",
   "metadata": {},
   "outputs": [],
   "source": [
    "math.pi"
   ]
  },
  {
   "cell_type": "code",
   "execution_count": null,
   "id": "ad6fa708-4aa4-45c6-9279-b77833bc6078",
   "metadata": {},
   "outputs": [],
   "source": [
    "math.sin(math.pi / 2.0)"
   ]
  },
  {
   "cell_type": "code",
   "execution_count": null,
   "id": "c53e7bc6-63e0-4534-abef-e115646bea52",
   "metadata": {},
   "outputs": [],
   "source": [
    "dir()"
   ]
  },
  {
   "cell_type": "code",
   "execution_count": null,
   "id": "fad6ba03-df20-4122-a21c-5e2273bf7fb1",
   "metadata": {},
   "outputs": [],
   "source": [
    "from math import sin, pi"
   ]
  },
  {
   "cell_type": "code",
   "execution_count": null,
   "id": "32f55fdf-bda5-4de5-83e3-a327ce49e535",
   "metadata": {},
   "outputs": [],
   "source": [
    "dir()"
   ]
  },
  {
   "cell_type": "code",
   "execution_count": null,
   "id": "96df8389-ae8f-46c3-8ee3-4952a3677dec",
   "metadata": {},
   "outputs": [],
   "source": [
    "sin(pi / 2.0)"
   ]
  },
  {
   "cell_type": "code",
   "execution_count": null,
   "id": "0eed993f-97e5-4570-abd8-b004eb2f9625",
   "metadata": {},
   "outputs": [],
   "source": [
    "def func(x):\n",
    "    from math import sin, cos, pi\n",
    "    \n",
    "    return sin(x) * cos(x / 2.0) + sin(pi / 2.0)"
   ]
  },
  {
   "cell_type": "code",
   "execution_count": null,
   "id": "9ab1e036-102f-4d66-9db1-459ec26431f1",
   "metadata": {},
   "outputs": [],
   "source": [
    "func(1)"
   ]
  },
  {
   "cell_type": "code",
   "execution_count": null,
   "id": "75cd5718-17c7-4489-8924-6965e3e7ea47",
   "metadata": {},
   "outputs": [],
   "source": [
    "import random"
   ]
  },
  {
   "cell_type": "code",
   "execution_count": null,
   "id": "864fe1ee-b706-42a7-829d-4cf84d863056",
   "metadata": {},
   "outputs": [],
   "source": [
    "random.randint(1, 100)"
   ]
  },
  {
   "cell_type": "code",
   "execution_count": null,
   "id": "c04faac7-4ab1-4047-a2e9-1804d7e2384c",
   "metadata": {},
   "outputs": [],
   "source": [
    "dir(random)"
   ]
  },
  {
   "cell_type": "code",
   "execution_count": null,
   "id": "5fd45384-4e03-4ceb-b027-7ccf5fbda1d5",
   "metadata": {},
   "outputs": [],
   "source": [
    "random.__file__"
   ]
  },
  {
   "cell_type": "code",
   "execution_count": null,
   "id": "3e72659a-8291-4985-ad22-d457f71fd578",
   "metadata": {},
   "outputs": [],
   "source": [
    "import math"
   ]
  },
  {
   "cell_type": "code",
   "execution_count": null,
   "id": "9d74bdeb-3c28-4a9f-8b88-e9c0e92da9fa",
   "metadata": {},
   "outputs": [],
   "source": [
    "math.__file__"
   ]
  },
  {
   "cell_type": "code",
   "execution_count": null,
   "id": "d93265f1-1550-459d-a255-ee3d788d9aa4",
   "metadata": {},
   "outputs": [],
   "source": [
    "import sys\n",
    "sys.path"
   ]
  },
  {
   "cell_type": "code",
   "execution_count": null,
   "id": "358b7351-06e9-47e2-9052-70eed1fa1c65",
   "metadata": {},
   "outputs": [],
   "source": [
    "import mymodule"
   ]
  },
  {
   "cell_type": "code",
   "execution_count": null,
   "id": "1bbf32b4-c499-4ed8-b327-20e917d322b8",
   "metadata": {},
   "outputs": [],
   "source": [
    "dir(mymodule)"
   ]
  },
  {
   "cell_type": "code",
   "execution_count": null,
   "id": "c50ca966-6124-4379-83fd-50391c4871f2",
   "metadata": {},
   "outputs": [],
   "source": [
    "mymodule.dummy()"
   ]
  },
  {
   "cell_type": "code",
   "execution_count": null,
   "id": "b876ea66-73f7-4c53-8e69-c81bbfc8632f",
   "metadata": {},
   "outputs": [],
   "source": [
    "number = 34"
   ]
  },
  {
   "cell_type": "code",
   "execution_count": null,
   "id": "3a71c926-6442-4667-8465-87b3f6249c39",
   "metadata": {},
   "outputs": [],
   "source": [
    "number[::-1]"
   ]
  },
  {
   "cell_type": "code",
   "execution_count": null,
   "id": "2c978fc3-cfba-4226-861b-9bdd7855fa22",
   "metadata": {},
   "outputs": [],
   "source": [
    "import cool_funcs"
   ]
  },
  {
   "cell_type": "code",
   "execution_count": null,
   "id": "d8a0d7d7-ab16-4813-8d5f-581d34c2d643",
   "metadata": {},
   "outputs": [],
   "source": [
    "sys.path.append('/Users/dave-wadestein/Downloads/Intermediate-Python/cool_modules')"
   ]
  },
  {
   "cell_type": "code",
   "execution_count": null,
   "id": "a889faf4-2c82-4289-891e-5b6fc620bf6c",
   "metadata": {},
   "outputs": [],
   "source": [
    "sys.path"
   ]
  },
  {
   "cell_type": "code",
   "execution_count": null,
   "id": "5dec75d4-314a-481f-9765-55ae614e8926",
   "metadata": {},
   "outputs": [],
   "source": [
    "import sys\n",
    "sys.path.append('/salesforce/specific/drive')\n",
    "sys.path.append('/salesforce/specific/drive/engr')\n",
    "import shared_stuff"
   ]
  },
  {
   "cell_type": "code",
   "execution_count": null,
   "id": "36a1c899-f47c-423c-8fea-4f062e5aa9ac",
   "metadata": {},
   "outputs": [],
   "source": [
    "sys.path"
   ]
  },
  {
   "cell_type": "code",
   "execution_count": null,
   "id": "5eb7f65e-3c59-4832-b7b5-1e5190724c6c",
   "metadata": {},
   "outputs": [],
   "source": [
    "import cool_funcs"
   ]
  },
  {
   "cell_type": "code",
   "execution_count": null,
   "id": "afae14a0-fd75-4fff-a2b4-63999b709e05",
   "metadata": {},
   "outputs": [],
   "source": [
    "dir(cool_funcs)"
   ]
  },
  {
   "cell_type": "code",
   "execution_count": null,
   "id": "b8342a87-c5c0-4694-9d29-49fdd8963ea8",
   "metadata": {},
   "outputs": [],
   "source": [
    "cool_funcs.cool_func('this is cool')"
   ]
  },
  {
   "cell_type": "code",
   "execution_count": null,
   "id": "9842a562-cba9-4c99-8ed1-0eb6f8410895",
   "metadata": {},
   "outputs": [],
   "source": [
    "help(cool_funcs.cool_func)"
   ]
  },
  {
   "cell_type": "code",
   "execution_count": null,
   "id": "ab32d94d-c787-4804-b764-ba4991a6bdbc",
   "metadata": {},
   "outputs": [],
   "source": [
    "cool_funcs.__name__"
   ]
  },
  {
   "cell_type": "code",
   "execution_count": null,
   "id": "97227c79-9122-48f0-9ae1-9d057ce17022",
   "metadata": {},
   "outputs": [],
   "source": [
    "%run mymodule.py"
   ]
  },
  {
   "cell_type": "code",
   "execution_count": null,
   "id": "b5799c36-deab-4ca2-bebf-621df6ad16ef",
   "metadata": {},
   "outputs": [],
   "source": [
    "dir(cool_funcs)"
   ]
  },
  {
   "cell_type": "code",
   "execution_count": null,
   "id": "059e0077-2c33-44ff-be34-e107c3970857",
   "metadata": {},
   "outputs": [],
   "source": [
    "assert 1 == 1\n",
    "print('rest of program')"
   ]
  },
  {
   "cell_type": "code",
   "execution_count": null,
   "id": "92940891-de2a-467c-bbbc-05c410a8cc27",
   "metadata": {},
   "outputs": [],
   "source": [
    "assert 1 == 2, 'failure'\n",
    "print('more code')"
   ]
  },
  {
   "cell_type": "markdown",
   "id": "0d592409-77a9-41d1-8e28-d755f69e8d92",
   "metadata": {},
   "source": [
    "# Modules\n",
    "* files of Python code (could be compiled C, like math module)\n",
    "* we import them to make use of them\n",
    "* the folder they are in must be in sys.path\n",
    "  * we can append (or insert) folders to give us access to others' modules\n",
    "* __`__name__`__ will be name of module when import, but '`__main__`' when run, so you can do some quick and dirty testing at end of module\n",
    "  * don't test other people's code"
   ]
  },
  {
   "cell_type": "code",
   "execution_count": null,
   "id": "40c1b41f-c99a-45d3-8909-6ce90f04d4bc",
   "metadata": {},
   "outputs": [],
   "source": [
    "import random\n",
    "nums = []\n",
    "for count in range(100): # \"do this 100 times\"\n",
    "    nums.append(random.randint(1, 100))"
   ]
  },
  {
   "cell_type": "code",
   "execution_count": null,
   "id": "dedde01f-a545-49a1-8b83-d1412b91f266",
   "metadata": {},
   "outputs": [],
   "source": [
    "print(nums)"
   ]
  },
  {
   "cell_type": "code",
   "execution_count": null,
   "id": "54d0dc4f-7778-48e1-a31f-93e35bbb08d1",
   "metadata": {},
   "outputs": [],
   "source": [
    "len(nums)"
   ]
  },
  {
   "cell_type": "code",
   "execution_count": null,
   "id": "03444745-12a2-4893-915d-5dc348b4a1c6",
   "metadata": {},
   "outputs": [],
   "source": [
    "nums = list(set(nums)) # list-ify the set-ification of the original list"
   ]
  },
  {
   "cell_type": "code",
   "execution_count": null,
   "id": "e8df69e6-50f1-4af2-8a1e-ec5a0432b526",
   "metadata": {},
   "outputs": [],
   "source": [
    "print(nums)"
   ]
  },
  {
   "cell_type": "markdown",
   "id": "88c1127f-7758-4901-b615-69cd7a014ce3",
   "metadata": {},
   "source": [
    "# Sets\n",
    "* a one-trick pony\n",
    "  * remove duplicates"
   ]
  },
  {
   "cell_type": "code",
   "execution_count": null,
   "id": "9d4a68b5-604e-4f7b-86af-3b8ada80f092",
   "metadata": {},
   "outputs": [],
   "source": [
    "# let's write this as a list comprehension\n",
    "import random\n",
    "nums = []\n",
    "for _ in range(100): # \"do this 100 times\"\n",
    "    nums.append(random.randint(1, 100))"
   ]
  },
  {
   "cell_type": "code",
   "execution_count": null,
   "id": "e2fb0501-db80-41d9-bf42-7ae22f9f825e",
   "metadata": {},
   "outputs": [],
   "source": [
    "# if you find yourself creating an empty list, followed by for loop to fill it\n",
    "nums = [random.randint(1, 100) for _ in range(100)]\n",
    "# \"nums is a/becomes a list\"\n",
    "# \"nums is a/becomes a list of random numbers from 1 to 100\n",
    "print(nums)"
   ]
  },
  {
   "cell_type": "code",
   "execution_count": null,
   "id": "86e8f3e8-4a21-421f-bfac-0de39b5d368a",
   "metadata": {},
   "outputs": [],
   "source": [
    "for count in range(10): # count from 0 to 9\n",
    "    print('hello', count)"
   ]
  },
  {
   "cell_type": "code",
   "execution_count": null,
   "id": "8f12d300-b6b8-42e5-bba5-3600ad885c1c",
   "metadata": {},
   "outputs": [],
   "source": [
    "for _ in range(10): # count from 0 to 9\n",
    "    print('hello')"
   ]
  },
  {
   "cell_type": "markdown",
   "id": "f4816446-355b-4bcc-88b7-efba50726ba6",
   "metadata": {},
   "source": [
    "# more Pythonic\n",
    "* __`for _ in range(n):`__ can only mean \"do this n times\""
   ]
  },
  {
   "cell_type": "markdown",
   "id": "f8f5ff56-1bdc-4756-b0ec-4f646d3dfb09",
   "metadata": {},
   "source": [
    "## More about functions...\n",
    "* positional vs. keyword arguments\n",
    "* __`*args`__\n",
    "* __`**kwargs`__"
   ]
  },
  {
   "cell_type": "code",
   "execution_count": null,
   "id": "b032e367-3494-4572-9317-8e33a608b8d2",
   "metadata": {},
   "outputs": [],
   "source": [
    "print() # 0 args"
   ]
  },
  {
   "cell_type": "code",
   "execution_count": null,
   "id": "0145c372-7d83-4b33-82dd-9b665f81518a",
   "metadata": {},
   "outputs": [],
   "source": [
    "print(1, 2, 3) # 3 args"
   ]
  },
  {
   "cell_type": "code",
   "execution_count": null,
   "id": "f3ae222d-4a60-4dd5-9ba0-be13bad6ea26",
   "metadata": {},
   "outputs": [],
   "source": [
    "print(1, 2, 3, 4, 'five', 6, 7, 8, 9)"
   ]
  },
  {
   "cell_type": "code",
   "execution_count": null,
   "id": "14d95f78-c4ed-42cc-bb1b-05a7821eb9da",
   "metadata": {},
   "outputs": [],
   "source": [
    "print(1, 2, 3, 4, 'five', 6, 7, 8, 9, sep=', ')"
   ]
  },
  {
   "cell_type": "code",
   "execution_count": null,
   "id": "b1d6541b-11b4-4af5-adf8-61c88b9a7bdf",
   "metadata": {},
   "outputs": [],
   "source": [
    "sorted([1, 3, 2])"
   ]
  },
  {
   "cell_type": "code",
   "execution_count": null,
   "id": "0e28dcce-c6ac-42c6-9c95-63a45354c4b1",
   "metadata": {},
   "outputs": [],
   "source": [
    "sorted([1, 3, 2], reverse=True)"
   ]
  },
  {
   "cell_type": "markdown",
   "id": "5bcec12c-e38d-414c-9686-2e0f5e10281d",
   "metadata": {},
   "source": [
    "# What if we want to make a function that takes 0+ args, just like print()?\n",
    "* suppose we want a __`product()`__ function which returns the product of n numbers\n",
    "we'll use __`*args`__\n",
    "  * __`product(1, 2, 3, 4, 5) == 120`__\n",
    "  * __`product(4, -3, 12) == -144`__\n",
    "  * __`product() == 1`__\n",
    "  * we'll use Python's __`*args`__ convention\n",
    "    * allows us to send 0+ args into a function, rather than a specific number of args"
   ]
  },
  {
   "cell_type": "code",
   "execution_count": null,
   "id": "e1253c3c-ac1d-486f-861e-c83c7f96486f",
   "metadata": {},
   "outputs": [],
   "source": [
    "def product(*terms): # * means 0+ arguments\n",
    "    \"\"\"Multiply all of the positional args together and return result.\"\"\"\n",
    "    terms = list(terms) # turn it into a list to make us happier\n",
    "    result = 1\n",
    "    \n",
    "    for term in terms: # visit each successive term in the argument list, except for first\n",
    "        result = result * term # results *= term\n",
    "    \n",
    "    return result"
   ]
  },
  {
   "cell_type": "code",
   "execution_count": null,
   "id": "24579e10-5c89-4c76-b31d-4288819e7600",
   "metadata": {},
   "outputs": [],
   "source": [
    "product(1, 2, 3, 4, 5)"
   ]
  },
  {
   "cell_type": "code",
   "execution_count": null,
   "id": "087d9034-d135-4ab3-baa4-08701ba6893b",
   "metadata": {},
   "outputs": [],
   "source": [
    "product(4, -3, 12)"
   ]
  },
  {
   "cell_type": "code",
   "execution_count": null,
   "id": "6a7d4044-b60e-4fd7-8bdb-1f78d4de2dab",
   "metadata": {},
   "outputs": [],
   "source": [
    "product()"
   ]
  },
  {
   "cell_type": "code",
   "execution_count": null,
   "id": "5d36ccd3-91ca-4ebc-a42e-51eae2a431df",
   "metadata": {},
   "outputs": [],
   "source": [
    "product(1.23, 4.1, 6, 5, -4)"
   ]
  },
  {
   "cell_type": "code",
   "execution_count": null,
   "id": "3b444104-e3d9-4c0f-8238-9ccb3dbae0bd",
   "metadata": {},
   "outputs": [],
   "source": [
    "def product(*terms): # * means 0+ arguments\n",
    "    \"\"\"Multiply all of the positional args together and return result.\"\"\"\n",
    "    terms = list(terms) # turn it into a list to make us happier\n",
    "    result = 1\n",
    "    \n",
    "    for term in terms: # visit each successive term in the argument list, except for first\n",
    "        result = result * term # results *= term\n",
    "    \n",
    "    return result"
   ]
  },
  {
   "cell_type": "code",
   "execution_count": null,
   "id": "6e415d97-25f8-4698-ab6f-db13a2e101a4",
   "metadata": {},
   "outputs": [],
   "source": [
    "product(1, 2, -3, absval=True) # make it positive, never return a negative"
   ]
  },
  {
   "cell_type": "code",
   "execution_count": null,
   "id": "b73f2c17-c2f3-49d1-b5fd-343015e7ff47",
   "metadata": {},
   "outputs": [],
   "source": [
    "print(1, 2, 3, absval=True)"
   ]
  },
  {
   "cell_type": "code",
   "execution_count": null,
   "id": "1bf3b4a6-aa0c-4ffc-be12-fd12fbf3d7e6",
   "metadata": {},
   "outputs": [],
   "source": [
    "def product(*terms, absval=False): # * means 0+ arguments\n",
    "    \"\"\"Multiply all of the positional args together and return result.\"\"\"\n",
    "    # the change we made to the function header now enables this function to accept 'absval'\n",
    "    # as a keyword argument, but we haven't written any code to make that argument do anything\n",
    "    terms = list(terms) # turn it into a list to make us happier\n",
    "    result = 1\n",
    "    \n",
    "    for term in terms: # visit each successive term in the argument list, except for first\n",
    "        result = result * term # results *= term\n",
    "\n",
    "    # make the result positive, IF absval == True\n",
    "    if absval: # == True\n",
    "        result = abs(result) # make it positive\n",
    "    else:\n",
    "        print('absval is False, nothing to do.')\n",
    "    \n",
    "    return result"
   ]
  },
  {
   "cell_type": "code",
   "execution_count": null,
   "id": "eb13ea21-b132-40cb-b81f-97d24aeab2b4",
   "metadata": {},
   "outputs": [],
   "source": [
    "product(1, 2, -3) # Python no longer complains, now we have to make it work"
   ]
  },
  {
   "cell_type": "code",
   "execution_count": null,
   "id": "4efb610f-0459-425b-9802-2d7d5a16c9b8",
   "metadata": {},
   "outputs": [],
   "source": [
    "product(1, 2, -3, absval=True)"
   ]
  },
  {
   "cell_type": "code",
   "execution_count": null,
   "id": "5f9205fd-8c55-4e00-824e-c3e7be178a74",
   "metadata": {},
   "outputs": [],
   "source": [
    "round(4.93)"
   ]
  },
  {
   "cell_type": "code",
   "execution_count": null,
   "id": "55ce4172-d2f6-47cc-a8b2-eda8538a148c",
   "metadata": {},
   "outputs": [],
   "source": [
    "round(4.938, ndigits=2)"
   ]
  },
  {
   "cell_type": "code",
   "execution_count": null,
   "id": "999e42b1-a0cc-443f-9cbd-bbe3070ec1da",
   "metadata": {},
   "outputs": [],
   "source": [
    "def product(*terms, absval=False, as_string=False): # * means 0+ arguments\n",
    "    \"\"\"Multiply all of the positional args together and return result.\"\"\"\n",
    "    # the change we made to the function header now enables this function to accept 'absval'\n",
    "    # as a keyword argument, but we haven't written any code to make that argument do anything\n",
    "    terms = list(terms) # turn it into a list to make us happier\n",
    "    result = 1\n",
    "    \n",
    "    for term in terms: # visit each successive term in the argument list, except for first\n",
    "        result = result * term # results *= term\n",
    "\n",
    "    # make the result positive, IF absval == True\n",
    "    if absval: # == True\n",
    "        result = abs(result) # make it positive\n",
    "    else:\n",
    "        print('absval is False, nothing to do.')\n",
    "    \n",
    "    return result"
   ]
  },
  {
   "cell_type": "code",
   "execution_count": null,
   "id": "ba3b1d42-c2b8-44ed-9eb3-d78310b0a741",
   "metadata": {},
   "outputs": [],
   "source": [
    "product(1, 2, -3, absval=True, as_string=True)"
   ]
  },
  {
   "cell_type": "code",
   "execution_count": null,
   "id": "6fc3fa6b-e959-4f0f-a3c0-366a97a6f8d0",
   "metadata": {},
   "outputs": [],
   "source": [
    "def product(*terms, absval=False, as_string=False): # * means 0+ arguments\n",
    "    \"\"\"Multiply all of the positional args together and return result.\"\"\"\n",
    "    # the change we made to the function header now enables this function to accept 'absval'\n",
    "    # as a keyword argument, but we haven't written any code to make that argument do anything\n",
    "    terms = list(terms) # turn it into a list to make us happier\n",
    "    result = 1\n",
    "    \n",
    "    for term in terms: # visit each successive term in the argument list, except for first\n",
    "        result = result * term # results *= term\n",
    "\n",
    "    # make the result positive, IF absval == True\n",
    "    if absval: # == True\n",
    "        result = abs(result) # make it positive\n",
    "\n",
    "    if as_string: # == True\n",
    "        return str(result) # return string version\n",
    "           \n",
    "    return result"
   ]
  },
  {
   "cell_type": "code",
   "execution_count": null,
   "id": "a9a40cc2-5a22-46d2-8fd6-fc3e0e275480",
   "metadata": {},
   "outputs": [],
   "source": [
    "product(1, 2, -3)"
   ]
  },
  {
   "cell_type": "code",
   "execution_count": null,
   "id": "2b58410f-a22d-42ae-9cff-6ff1c45c0d92",
   "metadata": {},
   "outputs": [],
   "source": [
    "product(1, 2, -3, absval=True)"
   ]
  },
  {
   "cell_type": "code",
   "execution_count": null,
   "id": "36fff6b6-f1f3-4311-b7ca-64a6f015840e",
   "metadata": {},
   "outputs": [],
   "source": [
    "product(1, 2, -3, absval=True, as_string=True)"
   ]
  },
  {
   "cell_type": "code",
   "execution_count": null,
   "id": "60921901-8878-4e9b-8028-3b3b45d7c33e",
   "metadata": {},
   "outputs": [],
   "source": [
    "def new_func(*args, **kwargs):\n",
    "    print(args, kwargs, sep='\\n') # print them both with a \\n between them"
   ]
  },
  {
   "cell_type": "code",
   "execution_count": null,
   "id": "90cc697c-2f2e-4fbb-a2a6-9d99dc0a7c6b",
   "metadata": {},
   "outputs": [],
   "source": [
    "new_func(1, 2, 3, 4, 5)"
   ]
  },
  {
   "cell_type": "code",
   "execution_count": null,
   "id": "8cbdbbaf-9757-4048-ae57-20f74aa4e354",
   "metadata": {},
   "outputs": [],
   "source": [
    "new_func()"
   ]
  },
  {
   "cell_type": "code",
   "execution_count": null,
   "id": "1d311b72-34cb-4e68-9650-ff325d66d9f5",
   "metadata": {},
   "outputs": [],
   "source": [
    "new_func(1, 2, 3, 'four', [1, 2, 3])"
   ]
  },
  {
   "cell_type": "code",
   "execution_count": null,
   "id": "14aeb0e7-eaa2-48ee-a883-825e5daaa344",
   "metadata": {},
   "outputs": [],
   "source": [
    "new_func(1, 2, 3, 4, 5, debug=True, color='red', direction='north')"
   ]
  },
  {
   "cell_type": "code",
   "execution_count": null,
   "id": "3da7bfd7-6dd2-4349-8d1b-d13c4fc2aef8",
   "metadata": {},
   "outputs": [],
   "source": [
    "new_func()"
   ]
  },
  {
   "cell_type": "code",
   "execution_count": null,
   "id": "9afca4c1-dcc5-4c3b-9230-5733aee9ac85",
   "metadata": {},
   "outputs": [],
   "source": [
    "new_func(color='green')"
   ]
  },
  {
   "cell_type": "code",
   "execution_count": null,
   "id": "10f93c7d-f7de-4453-a4af-341b7a21f131",
   "metadata": {},
   "outputs": [],
   "source": [
    "def new_func(*args, **kwargs):\n",
    "    print('positional args:', end=' ')\n",
    "    for arg in args: # iterate thru the tuple representing the positional args\n",
    "        print(arg, end=' ')\n",
    "    print()\n",
    "    print('keyword args:', end=' ')\n",
    "    for kwarg in kwargs: # iterate thru the dict(ionary) representing the kwargs\n",
    "        print(kwarg, '=', kwargs[kwarg], end=' ')\n",
    "    print()"
   ]
  },
  {
   "cell_type": "code",
   "execution_count": null,
   "id": "d44c54cc-d351-4e6d-ba3e-0b80005d230d",
   "metadata": {},
   "outputs": [],
   "source": [
    "new_func(1, 2, 3, 4, 5, debug=True, color='red', direction='north')"
   ]
  },
  {
   "cell_type": "code",
   "execution_count": null,
   "id": "71c31bed-1320-47bb-88bb-e7d214789ea0",
   "metadata": {},
   "outputs": [],
   "source": [
    "employees = { 'Zach Charat': 12345, 'Ryan Fisher': 23456, 'Marci Rivera': 61421 }"
   ]
  },
  {
   "cell_type": "code",
   "execution_count": null,
   "id": "acbca2df-f117-4056-b8f8-89797e390d6d",
   "metadata": {},
   "outputs": [],
   "source": [
    "employees['Marci Rivera']"
   ]
  },
  {
   "cell_type": "code",
   "execution_count": null,
   "id": "ecc20842-6b29-48ee-a085-68123c1fe2ad",
   "metadata": {},
   "outputs": [],
   "source": [
    "roman_to_hindu_arabic = { 'M': 1000, 'D': 500, 'C': 100, 'L': 50, 'X': 10, 'V': 5, 'I': 1 }"
   ]
  },
  {
   "cell_type": "code",
   "execution_count": null,
   "id": "a658e99f-96a3-499f-a482-5eb998b6f5bf",
   "metadata": {},
   "outputs": [],
   "source": [
    "new_func(1, 2, 3, color='pink', 5)"
   ]
  },
  {
   "cell_type": "code",
   "execution_count": null,
   "id": "674f3be3-b506-4b41-a7f5-a48a94235f26",
   "metadata": {},
   "outputs": [],
   "source": [
    "new_func(1, 2, 3, 5, color='pink')"
   ]
  },
  {
   "cell_type": "code",
   "execution_count": null,
   "id": "2ab1f206-6eae-4a24-894f-a1c88861d3e1",
   "metadata": {},
   "outputs": [],
   "source": [
    "def weird_func(x, y, z, *args):\n",
    "    print(x, y, z)\n",
    "    print(args)"
   ]
  },
  {
   "cell_type": "code",
   "execution_count": null,
   "id": "c5bff50f-3a62-4951-8ff8-0f0ea9d01c79",
   "metadata": {},
   "outputs": [],
   "source": [
    "weird_func(1, 2, 3)"
   ]
  },
  {
   "cell_type": "code",
   "execution_count": null,
   "id": "730b3781-2390-4a59-8b50-c26499c6eda2",
   "metadata": {},
   "outputs": [],
   "source": [
    "weird_func(1, 2, 3, 4, 5, 6)"
   ]
  },
  {
   "cell_type": "code",
   "execution_count": null,
   "id": "49375403-1f77-47d8-9039-d18b0bf97186",
   "metadata": {},
   "outputs": [],
   "source": [
    "def salesforce_important_func(x, y, z, *args):\n",
    "    print(x, y, z)\n",
    "    print(args)"
   ]
  },
  {
   "cell_type": "code",
   "execution_count": null,
   "id": "3950c5e6-c631-4ce7-9d35-7516bdccaa80",
   "metadata": {},
   "outputs": [],
   "source": [
    "def salesforce_important_func(x, y, z, debug=False):\n",
    "    print(x, y, z)\n",
    "    if debug: # == True\n",
    "        print('start debug mode')"
   ]
  },
  {
   "cell_type": "code",
   "execution_count": null,
   "id": "8c39f49b-fe96-4f85-abe1-72e804437941",
   "metadata": {},
   "outputs": [],
   "source": [
    "salesforce_important_func(1, 2, 3)"
   ]
  },
  {
   "cell_type": "code",
   "execution_count": null,
   "id": "51948eb1-0cbe-426c-8cea-12209d1aa3bd",
   "metadata": {},
   "outputs": [],
   "source": [
    "salesforce_important_func(1, 2, 3, debug=True)"
   ]
  },
  {
   "cell_type": "code",
   "execution_count": null,
   "id": "1e07cfe5-233d-4722-b681-68f4225cef8c",
   "metadata": {},
   "outputs": [],
   "source": [
    "nums = [1, 2]"
   ]
  },
  {
   "cell_type": "code",
   "execution_count": null,
   "id": "0de4cb46-dbc9-4804-b588-9b8811fae861",
   "metadata": {},
   "outputs": [],
   "source": [
    "num = 1"
   ]
  },
  {
   "cell_type": "code",
   "execution_count": null,
   "id": "835e1df4-3d43-43f5-9ec8-4c8d04601132",
   "metadata": {},
   "outputs": [],
   "source": [
    "print(type(num))"
   ]
  },
  {
   "cell_type": "code",
   "execution_count": null,
   "id": "40d54d05-23b5-47e0-9e74-83ed29d71a11",
   "metadata": {},
   "outputs": [],
   "source": [
    "nums.append(3)"
   ]
  },
  {
   "cell_type": "code",
   "execution_count": null,
   "id": "0f9636a2-89b1-4575-b264-5b0c2c6273e5",
   "metadata": {},
   "outputs": [],
   "source": [
    "class BankAccount: # by convention class names are Pascal Case\n",
    "    \"\"\"A class (or type) that represents a bank account.\"\"\"\n",
    "    def __init__(self, name, initial_balance):\n",
    "        self.name = name\n",
    "        self.balance = initial_balance\n",
    "        print('in __init__')\n",
    "        \n",
    "    def deposit(self, amount):\n",
    "        \"\"\"Deposit money into the account.\"\"\"\n",
    "        if amount > 0:\n",
    "            self.balance += amount\n",
    "            return self.balance\n",
    "        else:\n",
    "            print(\"can't deposit nonpositive amount!\")\n",
    "\n",
    "    def withdraw(self, amount):\n",
    "        if amount > 0:\n",
    "            if amount <= self.balance:\n",
    "                self.balance -= amount\n",
    "                return self.balance\n",
    "            else:\n",
    "                print(\"can't withdraw\", amount, \"or you would be overdrawn!\")\n",
    "        else:\n",
    "            print(\"can't withdraw nonpositive amount!\") "
   ]
  },
  {
   "cell_type": "code",
   "execution_count": null,
   "id": "8e351d36-8937-4b51-8248-d3ccf4ca8a51",
   "metadata": {},
   "outputs": [],
   "source": [
    "new_account = BankAccount()"
   ]
  },
  {
   "cell_type": "code",
   "execution_count": null,
   "id": "7b7aec5e-2afc-45e0-b89c-614f61438fbe",
   "metadata": {},
   "outputs": [],
   "source": [
    "new_account = BankAccount('self', 'Dave', 100)"
   ]
  },
  {
   "cell_type": "code",
   "execution_count": null,
   "id": "92f8dad0-f1ab-4053-bbfc-09ff2c7eb591",
   "metadata": {},
   "outputs": [],
   "source": [
    "account = BankAccount('Taylor Swift', 350_000_000)"
   ]
  },
  {
   "cell_type": "code",
   "execution_count": null,
   "id": "85957ed3-e67c-44ad-aa75-38ad3f5bc242",
   "metadata": {},
   "outputs": [],
   "source": [
    "dir(account)"
   ]
  },
  {
   "cell_type": "code",
   "execution_count": null,
   "id": "b7995c0e-e926-431f-a325-92d4f911d971",
   "metadata": {},
   "outputs": [],
   "source": [
    "vars(account)"
   ]
  },
  {
   "cell_type": "code",
   "execution_count": null,
   "id": "28516411-f120-443d-bfbe-fb18afca0349",
   "metadata": {},
   "outputs": [],
   "source": [
    "account.__dict__ # \"dunder dict\""
   ]
  },
  {
   "cell_type": "code",
   "execution_count": null,
   "id": "e58223ab-0b76-407e-9869-37e6c5094b1c",
   "metadata": {},
   "outputs": [],
   "source": [
    "type(account)"
   ]
  },
  {
   "cell_type": "code",
   "execution_count": null,
   "id": "14b4d02f-0d6f-44eb-bf92-faa2a5565dd0",
   "metadata": {},
   "outputs": [],
   "source": [
    "str(1) # string-ify an int"
   ]
  },
  {
   "cell_type": "code",
   "execution_count": null,
   "id": "4262ec5e-7acc-4bc7-93f5-9a1b6e0d57cd",
   "metadata": {},
   "outputs": [],
   "source": [
    "# what we really did was create a new 'str' object and specified that it's initial\n",
    "# value should be 1 ... as a string"
   ]
  },
  {
   "cell_type": "code",
   "execution_count": null,
   "id": "679c4116-2c04-4317-ac10-6d97e7459a4e",
   "metadata": {},
   "outputs": [],
   "source": [
    "new_string = str('some text')"
   ]
  },
  {
   "cell_type": "code",
   "execution_count": null,
   "id": "2d986482-f1ab-4b40-9815-12e7a97d894b",
   "metadata": {},
   "outputs": [],
   "source": [
    "new_string"
   ]
  },
  {
   "cell_type": "code",
   "execution_count": null,
   "id": "89ae350f-e5b5-4c2b-911b-88f0b26767b2",
   "metadata": {},
   "outputs": [],
   "source": [
    "str(23)"
   ]
  },
  {
   "cell_type": "code",
   "execution_count": null,
   "id": "27a77828-003c-4fec-bcff-8858be839212",
   "metadata": {},
   "outputs": [],
   "source": [
    "str([1, 2, 3])"
   ]
  },
  {
   "cell_type": "code",
   "execution_count": null,
   "id": "bfd19c44-1757-4157-9266-5d0892503c1e",
   "metadata": {},
   "outputs": [],
   "source": [
    "str(1.2)"
   ]
  },
  {
   "cell_type": "code",
   "execution_count": null,
   "id": "df7fc933-5fbf-4d05-9285-a10bef043b8b",
   "metadata": {},
   "outputs": [],
   "source": [
    "str({})"
   ]
  },
  {
   "cell_type": "code",
   "execution_count": null,
   "id": "877955ee-ed84-4326-919c-5174b27e2ed1",
   "metadata": {},
   "outputs": [],
   "source": [
    "num = 23"
   ]
  },
  {
   "cell_type": "code",
   "execution_count": null,
   "id": "b384be60-0ea2-47ea-b597-6419597bc273",
   "metadata": {},
   "outputs": [],
   "source": [
    "str(23) # actually invokes __str__ of the integer object"
   ]
  },
  {
   "cell_type": "code",
   "execution_count": null,
   "id": "23f84908-9c0b-442c-988e-c0eec467a2af",
   "metadata": {},
   "outputs": [],
   "source": [
    "num.__str__()"
   ]
  },
  {
   "cell_type": "code",
   "execution_count": null,
   "id": "d3f1ff54-31df-45e5-a5b8-17adee84ea1e",
   "metadata": {},
   "outputs": [],
   "source": [
    "[1, 2, 3].__str__()"
   ]
  },
  {
   "cell_type": "code",
   "execution_count": null,
   "id": "07481fc6-136a-472d-b146-fea5901818f5",
   "metadata": {},
   "outputs": [],
   "source": [
    "str([1, 2, 3])"
   ]
  },
  {
   "cell_type": "code",
   "execution_count": null,
   "id": "36c49f48-53ad-4198-92c7-ee2e13cc8abe",
   "metadata": {},
   "outputs": [],
   "source": [
    "from bank import BankAccount"
   ]
  },
  {
   "cell_type": "code",
   "execution_count": null,
   "id": "5901c10f-d9a0-457c-9dde-e9ab336ce417",
   "metadata": {},
   "outputs": [],
   "source": [
    "ba = BankAccount('Dave', 23)"
   ]
  },
  {
   "cell_type": "code",
   "execution_count": null,
   "id": "025e0066-99bc-4687-88cf-55d0aca57a85",
   "metadata": {},
   "outputs": [],
   "source": [
    "print(ba)"
   ]
  },
  {
   "cell_type": "code",
   "execution_count": null,
   "id": "3e874c91-22c4-4d60-9ed1-b1b7194b74c2",
   "metadata": {},
   "outputs": [],
   "source": [
    "str(ba)"
   ]
  },
  {
   "cell_type": "code",
   "execution_count": null,
   "id": "77ef5e32-05c7-47e0-bb0b-f2fa49713a82",
   "metadata": {},
   "outputs": [],
   "source": [
    "x = 1"
   ]
  },
  {
   "cell_type": "code",
   "execution_count": null,
   "id": "78247523-97a7-44e5-ae04-e7d9750d1a8e",
   "metadata": {},
   "outputs": [],
   "source": [
    "eval('x + 1')"
   ]
  },
  {
   "cell_type": "code",
   "execution_count": null,
   "id": "d149ea1e-08ee-4ee9-8830-88d48dc791c6",
   "metadata": {},
   "outputs": [],
   "source": [
    "command = input('Tell me what to do: ')"
   ]
  },
  {
   "cell_type": "code",
   "execution_count": null,
   "id": "a868b10d-7bc3-4477-81f0-82f168f9f2e8",
   "metadata": {},
   "outputs": [],
   "source": [
    "command"
   ]
  },
  {
   "cell_type": "code",
   "execution_count": null,
   "id": "8f3d123f-f238-4b7d-9f59-b2edd475d038",
   "metadata": {},
   "outputs": [],
   "source": [
    "eval(command)"
   ]
  },
  {
   "cell_type": "code",
   "execution_count": null,
   "id": "67f115b7-28df-4114-96f3-1194adfc1a6c",
   "metadata": {},
   "outputs": [],
   "source": [
    "string = 'Bruce Lee'"
   ]
  },
  {
   "cell_type": "code",
   "execution_count": null,
   "id": "bc0fb5d5-d0bb-4068-afab-bb3e58027b06",
   "metadata": {},
   "outputs": [],
   "source": [
    "string # repr: tell me what the value of this object"
   ]
  },
  {
   "cell_type": "code",
   "execution_count": null,
   "id": "2b7a2bbf-f7d8-49fd-a842-1a7652fd5548",
   "metadata": {},
   "outputs": [],
   "source": [
    "print(string) # str, human readable"
   ]
  },
  {
   "cell_type": "code",
   "execution_count": null,
   "id": "e363d12a-3028-45ce-866c-d49b72a086d6",
   "metadata": {},
   "outputs": [],
   "source": [
    "repr(string)"
   ]
  },
  {
   "cell_type": "code",
   "execution_count": null,
   "id": "34d317f7-dfb2-4ed9-ba00-ffd68a9f529a",
   "metadata": {},
   "outputs": [],
   "source": [
    "str(string)"
   ]
  },
  {
   "cell_type": "code",
   "execution_count": null,
   "id": "9e515460-cca8-485f-a731-3e6d01f76b24",
   "metadata": {},
   "outputs": [],
   "source": [
    "str(1)"
   ]
  },
  {
   "cell_type": "code",
   "execution_count": null,
   "id": "c2b6f55f-eedf-40f4-bb1d-c7fe6f269476",
   "metadata": {},
   "outputs": [],
   "source": [
    "string"
   ]
  },
  {
   "cell_type": "code",
   "execution_count": null,
   "id": "6d083e31-6ba7-46dd-ba90-0249bc32f070",
   "metadata": {},
   "outputs": [],
   "source": [
    "print(string)"
   ]
  },
  {
   "cell_type": "code",
   "execution_count": null,
   "id": "9a53b970-326a-4635-96b8-09b959da37a6",
   "metadata": {},
   "outputs": [],
   "source": [
    "num = 1"
   ]
  },
  {
   "cell_type": "code",
   "execution_count": null,
   "id": "4990f3b7-c50d-4571-92aa-0c31abb88dfa",
   "metadata": {},
   "outputs": [],
   "source": [
    "num"
   ]
  },
  {
   "cell_type": "code",
   "execution_count": null,
   "id": "4861b676-0b3b-4221-b8f8-6b58e5181b13",
   "metadata": {},
   "outputs": [],
   "source": [
    "print(num)"
   ]
  },
  {
   "cell_type": "code",
   "execution_count": null,
   "id": "1a30e6ec-1f43-482f-b992-46236fac2e04",
   "metadata": {},
   "outputs": [],
   "source": [
    "import bank"
   ]
  },
  {
   "cell_type": "code",
   "execution_count": null,
   "id": "ea1cd7ae-e7bd-43b9-8136-ffcc5f90303c",
   "metadata": {},
   "outputs": [],
   "source": [
    "dir(bank)"
   ]
  },
  {
   "cell_type": "code",
   "execution_count": null,
   "id": "61e38071-23f3-4fc8-ba3e-6398f24a6d31",
   "metadata": {},
   "outputs": [],
   "source": [
    "type(bank.BankAccount)"
   ]
  },
  {
   "cell_type": "code",
   "execution_count": null,
   "id": "92dda881-943d-4df8-8ce7-47c188977439",
   "metadata": {},
   "outputs": [],
   "source": [
    "type(int)"
   ]
  },
  {
   "cell_type": "code",
   "execution_count": null,
   "id": "114adf53-4504-4554-acc4-e5b34030ea83",
   "metadata": {},
   "outputs": [],
   "source": [
    "x = 1\n",
    "y = 1"
   ]
  },
  {
   "cell_type": "code",
   "execution_count": null,
   "id": "bb580132-4313-4a56-b8ae-2a59d07ca4d1",
   "metadata": {},
   "outputs": [],
   "source": [
    "id(x), id(y)"
   ]
  },
  {
   "cell_type": "code",
   "execution_count": null,
   "id": "c57fbb63-8785-49b7-bf7d-44fc0431c190",
   "metadata": {},
   "outputs": [],
   "source": [
    "x = 1000\n",
    "y = 1000"
   ]
  },
  {
   "cell_type": "code",
   "execution_count": null,
   "id": "f8b05ae8-6b09-4b5c-97db-f09581c73b1d",
   "metadata": {},
   "outputs": [],
   "source": [
    "id(x), id(y)"
   ]
  },
  {
   "cell_type": "code",
   "execution_count": null,
   "id": "561634f8-b1c2-4a39-9f56-8e6cd9f922c6",
   "metadata": {},
   "outputs": [],
   "source": [
    "list_of_nums = [1] * 1000"
   ]
  },
  {
   "cell_type": "code",
   "execution_count": null,
   "id": "16f18fc5-4851-4ec5-b9bb-32be1a81a144",
   "metadata": {},
   "outputs": [],
   "source": [
    "print(list_of_nums)"
   ]
  },
  {
   "cell_type": "code",
   "execution_count": null,
   "id": "76dda38f-fa5f-4957-a5c0-0faf9c3cdb91",
   "metadata": {},
   "outputs": [],
   "source": [
    "# mark your calendar...Oct 4...life after dunder methods"
   ]
  },
  {
   "cell_type": "markdown",
   "id": "932145b2-46c3-4f24-a97c-c8d239dcbf6b",
   "metadata": {},
   "source": [
    "# __`__init__`__\n",
    "* our first \"magic method\" or \"dunder method\" (dunder == \"double underscore\")\n",
    "* initialize method for instances of a class\n",
    "  * every time we create a new instace, that method is called\n",
    "* fills in the initial values, if any\n",
    "* the object intially is formless, and gets \"chiseled in\" as you assign things to the \"slots\"\n",
    "* not required if you don't hany any initialization to do\n",
    "* not a \"constructor\" because object has already been created, by the time this is called\n"
   ]
  },
  {
   "cell_type": "markdown",
   "id": "07aa51d2-fd0d-455d-95e0-d1ac23b9bf96",
   "metadata": {},
   "source": [
    "# Other important things about OO in Python\n",
    "* all (most) methods take 'self' as first parameter, but we don't pass it\n",
    "  * instead, Python does\n",
    "  * when we write __`objname.method(arguments)`__, it's the same as:\n",
    "    * __`classname.method(objname, arguments)`__, in other words...\n",
    "    * objname is passed as self by Python\n",
    "* magic methods\n",
    "  * they're \"magic\" because they are rarely if ever called directly\n",
    "  * they are triggered by some other \"above ground\" function typically\n",
    "    * Stranger Things analogy: real is world is above ground, \"upside down\" is \"messed up\" replica"
   ]
  },
  {
   "cell_type": "code",
   "execution_count": null,
   "id": "3b072bdd-c348-4ad9-9320-29780bac5ca9",
   "metadata": {},
   "outputs": [],
   "source": [
    "str(1)"
   ]
  },
  {
   "cell_type": "code",
   "execution_count": null,
   "id": "cffb3d9f-f51a-4d85-8bbf-2af6ba8a02a0",
   "metadata": {},
   "outputs": [],
   "source": [
    "str('string')"
   ]
  },
  {
   "cell_type": "code",
   "execution_count": null,
   "id": "787a9c07-715d-444c-b82c-be30d19bbe1d",
   "metadata": {},
   "outputs": [],
   "source": [
    "import bank\n",
    "ba = BankAccount('Magaret Hamilton', 100)"
   ]
  },
  {
   "cell_type": "code",
   "execution_count": null,
   "id": "21553d67-496b-4a2c-84a8-8d6d14ef74e2",
   "metadata": {},
   "outputs": [],
   "source": [
    "print(ba) # default way of printing a BankAccount (or any new object) is ugly"
   ]
  },
  {
   "cell_type": "code",
   "execution_count": null,
   "id": "852fac5a-0aaa-4530-8c39-e1b2f42eb37b",
   "metadata": {},
   "outputs": [],
   "source": [
    "id(ba)"
   ]
  },
  {
   "cell_type": "code",
   "execution_count": null,
   "id": "f466a328-b404-428f-b475-15b80bb5cf05",
   "metadata": {},
   "outputs": [],
   "source": [
    "print(ba) # under the hood, print() call str() which in turn call ___str__()"
   ]
  },
  {
   "cell_type": "code",
   "execution_count": null,
   "id": "7d750b1d-a286-4958-addf-a03e8d2d7ed8",
   "metadata": {},
   "outputs": [],
   "source": [
    "eval('2 + 3')"
   ]
  },
  {
   "cell_type": "code",
   "execution_count": null,
   "id": "f2a7019b-6dfd-405e-8e4c-3c7f1202b413",
   "metadata": {},
   "outputs": [],
   "source": [
    "number = 1"
   ]
  },
  {
   "cell_type": "code",
   "execution_count": null,
   "id": "a9c8913e-05da-4890-8569-3c5329fb7404",
   "metadata": {},
   "outputs": [],
   "source": [
    "type(number)"
   ]
  },
  {
   "cell_type": "code",
   "execution_count": null,
   "id": "8901ee28-e2cd-4bfa-a861-917b4cafcc2d",
   "metadata": {},
   "outputs": [],
   "source": [
    "number.__class__"
   ]
  },
  {
   "cell_type": "code",
   "execution_count": null,
   "id": "97b2c4ba-17da-4401-84b2-fe6788d30d4a",
   "metadata": {},
   "outputs": [],
   "source": [
    "def my_type(obj):\n",
    "    return obj.__class__"
   ]
  },
  {
   "cell_type": "code",
   "execution_count": null,
   "id": "bc9beaa5-1cf0-4e22-9e92-f6661c830bdf",
   "metadata": {},
   "outputs": [],
   "source": [
    "my_type(1)"
   ]
  },
  {
   "cell_type": "code",
   "execution_count": null,
   "id": "df3b022d-2393-4eed-89fa-4844c1fa9103",
   "metadata": {},
   "outputs": [],
   "source": [
    "my_type(1.5)"
   ]
  },
  {
   "cell_type": "code",
   "execution_count": null,
   "id": "8131bfd3-a812-40f2-8976-60db6f0ed5f7",
   "metadata": {},
   "outputs": [],
   "source": [
    "my_type('trin')"
   ]
  },
  {
   "cell_type": "code",
   "execution_count": null,
   "id": "41466931-f266-458a-bf7f-928a4f6d8088",
   "metadata": {},
   "outputs": [],
   "source": [
    "new_var = 1.3"
   ]
  },
  {
   "cell_type": "code",
   "execution_count": null,
   "id": "bac9eb7b-0319-4409-8fdb-a274c4c6559b",
   "metadata": {},
   "outputs": [],
   "source": [
    "my_type('print')"
   ]
  },
  {
   "cell_type": "code",
   "execution_count": null,
   "id": "58868bd2-cc5a-41e6-871a-c91008c9d65b",
   "metadata": {},
   "outputs": [],
   "source": [
    "my_type(print)"
   ]
  },
  {
   "cell_type": "code",
   "execution_count": null,
   "id": "c446b5ef-5e6c-4541-83d3-403d382ae605",
   "metadata": {},
   "outputs": [],
   "source": [
    "import sys"
   ]
  },
  {
   "cell_type": "code",
   "execution_count": null,
   "id": "b9271d54-afe9-4963-a5a9-21ba3fefb6bc",
   "metadata": {},
   "outputs": [],
   "source": [
    "sys.refcount(2)"
   ]
  },
  {
   "cell_type": "code",
   "execution_count": null,
   "id": "0651e40d-21da-47e0-b02a-f53a4ffdd63f",
   "metadata": {},
   "outputs": [],
   "source": [
    "dir(sys)"
   ]
  },
  {
   "cell_type": "code",
   "execution_count": null,
   "id": "f50cc74a-2c6a-4200-944a-cef4fda803e2",
   "metadata": {},
   "outputs": [],
   "source": [
    "sys.getrefcount(2)"
   ]
  },
  {
   "cell_type": "code",
   "execution_count": null,
   "id": "64cb1562-a663-4801-8b1a-a63b3c5ddcb1",
   "metadata": {},
   "outputs": [],
   "source": [
    "new_var_to_try = 2"
   ]
  },
  {
   "cell_type": "code",
   "execution_count": null,
   "id": "bed3e516-69eb-4595-acf8-e389ff05b22f",
   "metadata": {},
   "outputs": [],
   "source": [
    "sys.getrefcount(2)"
   ]
  },
  {
   "cell_type": "code",
   "execution_count": null,
   "id": "edffc380-8df6-4773-9bb0-8a553f2985e3",
   "metadata": {},
   "outputs": [],
   "source": [
    "weird = 456789"
   ]
  },
  {
   "cell_type": "code",
   "execution_count": null,
   "id": "0543bde0-131b-4f9a-95d4-b82e2213547e",
   "metadata": {},
   "outputs": [],
   "source": [
    "sys.getrefcount(456789)"
   ]
  },
  {
   "cell_type": "code",
   "execution_count": null,
   "id": "72f3d0ea-151d-4fc9-8139-482609823243",
   "metadata": {},
   "outputs": [],
   "source": [
    "new_ba = BankAccount('test', 100)"
   ]
  },
  {
   "cell_type": "code",
   "execution_count": null,
   "id": "3bdae7d5-5ec5-44a9-aefe-931cb45f19d6",
   "metadata": {},
   "outputs": [],
   "source": [
    "number"
   ]
  },
  {
   "cell_type": "code",
   "execution_count": null,
   "id": "e948a01d-27d8-440f-9fd3-77ff77334d8d",
   "metadata": {},
   "outputs": [],
   "source": [
    "number.__class__"
   ]
  },
  {
   "cell_type": "code",
   "execution_count": null,
   "id": "f61a18c3-dbb8-466c-a0c9-a3b123e09117",
   "metadata": {},
   "outputs": [],
   "source": [
    "number.__class__.__name__"
   ]
  },
  {
   "cell_type": "code",
   "execution_count": null,
   "id": "4510bf8e-5945-4272-9764-5db957d9c203",
   "metadata": {},
   "outputs": [],
   "source": [
    "type(number.__class__)"
   ]
  },
  {
   "cell_type": "code",
   "execution_count": null,
   "id": "f7a8d2da-da05-48e4-a54c-7c7befe4ee80",
   "metadata": {},
   "outputs": [],
   "source": [
    "print(str('string'))"
   ]
  },
  {
   "cell_type": "code",
   "execution_count": null,
   "id": "090287b7-d362-47b5-9f49-fdc08a061a9f",
   "metadata": {},
   "outputs": [],
   "source": [
    "print(repr('string'))"
   ]
  },
  {
   "cell_type": "code",
   "execution_count": null,
   "id": "e6454c34-5d3b-4a06-9abc-216e409fbf63",
   "metadata": {},
   "outputs": [],
   "source": [
    "len('string')"
   ]
  },
  {
   "cell_type": "code",
   "execution_count": null,
   "id": "256172eb-d38b-4436-8abf-b749d2dc7fd0",
   "metadata": {},
   "outputs": [],
   "source": [
    "len([1, 2])"
   ]
  },
  {
   "cell_type": "code",
   "execution_count": null,
   "id": "f0fd6170-db9b-467f-ac82-a411b8bf3a45",
   "metadata": {},
   "outputs": [],
   "source": [
    "len({1, 2, 3, 4})"
   ]
  },
  {
   "cell_type": "code",
   "execution_count": null,
   "id": "75a8de96-0f92-40f3-bb4e-cef0ade1d945",
   "metadata": {},
   "outputs": [],
   "source": [
    "len({})"
   ]
  },
  {
   "cell_type": "code",
   "execution_count": null,
   "id": "f264c157-9084-4110-9b63-b6d341062e6f",
   "metadata": {},
   "outputs": [],
   "source": [
    "len(3.4)"
   ]
  },
  {
   "cell_type": "code",
   "execution_count": null,
   "id": "80dfda6d-5e5f-404f-b4f7-67e1b6e03be2",
   "metadata": {},
   "outputs": [],
   "source": [
    "2.0 + 3.0"
   ]
  },
  {
   "cell_type": "code",
   "execution_count": null,
   "id": "3155dd95-9891-45e4-a98c-b601b2fb2d3a",
   "metadata": {},
   "outputs": [],
   "source": [
    "'2' + '3'"
   ]
  },
  {
   "cell_type": "code",
   "execution_count": null,
   "id": "bc0913d9-7f9b-4c49-9db9-4bab3df25bb3",
   "metadata": {},
   "outputs": [],
   "source": [
    "[2] + [3]"
   ]
  },
  {
   "cell_type": "code",
   "execution_count": null,
   "id": "8a9f18ff-a13e-4c07-8917-c308f1078cc4",
   "metadata": {},
   "outputs": [],
   "source": [
    "(1, 2, 3) + (4, 5)"
   ]
  },
  {
   "cell_type": "code",
   "execution_count": null,
   "id": "e7ac1585-0ede-4218-8d5d-f4f6f2e5c05c",
   "metadata": {},
   "outputs": [],
   "source": [
    "num = 1"
   ]
  },
  {
   "cell_type": "code",
   "execution_count": null,
   "id": "b2a60a0c-843c-4bc9-9a46-1a2c3a556db9",
   "metadata": {},
   "outputs": [],
   "source": [
    "num + 1 # taylor.deposit(500)"
   ]
  },
  {
   "cell_type": "code",
   "execution_count": null,
   "id": "e41cf5a9-c182-4270-8392-320aba582978",
   "metadata": {},
   "outputs": [],
   "source": [
    "num.__add__(1) "
   ]
  },
  {
   "cell_type": "code",
   "execution_count": null,
   "id": "597bc7d6-a655-4c48-9807-8f0b4c05c7b3",
   "metadata": {},
   "outputs": [],
   "source": [
    "int.__add__(1, 2)   # BankAccount.deposit(taylor, 500)"
   ]
  },
  {
   "cell_type": "code",
   "execution_count": null,
   "id": "ca5ea144-1fff-4ab0-9dbd-f33a6b6accf9",
   "metadata": {},
   "outputs": [],
   "source": [
    "'one' + 'two'"
   ]
  },
  {
   "cell_type": "code",
   "execution_count": null,
   "id": "40c8bef6-b9ef-47ed-b119-abcc0d4f507f",
   "metadata": {},
   "outputs": [],
   "source": [
    "'one'.__add__('two')"
   ]
  },
  {
   "cell_type": "code",
   "execution_count": null,
   "id": "17c8579c-9b0b-4e7e-ae1f-af2f428efa7b",
   "metadata": {},
   "outputs": [],
   "source": [
    "[1, 2].__add__([3]) # [1, 2] + [3]"
   ]
  },
  {
   "cell_type": "markdown",
   "id": "44490673-002a-4800-b6ed-0fe73b7ae90e",
   "metadata": {},
   "source": [
    "# Printing out a list is ugly, but we can fix it in two ways:\n",
    "* use __`join()`__ string method to create one big string\n",
    "* use unpack operator (*) to expand the list into its constituent items"
   ]
  },
  {
   "cell_type": "code",
   "execution_count": null,
   "id": "d46e8a5e-b35b-495e-ae09-8145b81f557a",
   "metadata": {},
   "outputs": [],
   "source": [
    "names = ['Michael D. Higgins', 'Boris Johnson']"
   ]
  },
  {
   "cell_type": "code",
   "execution_count": null,
   "id": "ec1db1b4-3094-46f8-b22e-061c6211d809",
   "metadata": {},
   "outputs": [],
   "source": [
    "print(names)"
   ]
  },
  {
   "cell_type": "code",
   "execution_count": null,
   "id": "e22d48e2-ff43-4d77-8ca5-b2d45cd2ffeb",
   "metadata": {},
   "outputs": [],
   "source": [
    "', '.join(names) # join together all of the strings in a container...names"
   ]
  },
  {
   "cell_type": "code",
   "execution_count": null,
   "id": "083602c0-2313-4a0a-a0a1-8853b2a6699e",
   "metadata": {},
   "outputs": [],
   "source": [
    "print(', '.join(names))"
   ]
  },
  {
   "cell_type": "code",
   "execution_count": null,
   "id": "a0525a6d-b5c9-434c-855f-063f66678f02",
   "metadata": {},
   "outputs": [],
   "source": [
    "print('\\n'.join(names))"
   ]
  },
  {
   "cell_type": "code",
   "execution_count": null,
   "id": "2741cf96-c8f2-4069-97b2-14f879bc08f8",
   "metadata": {},
   "outputs": [],
   "source": [
    "print(names) # how many objects are being passed to the print() function?"
   ]
  },
  {
   "cell_type": "code",
   "execution_count": null,
   "id": "d669bc3b-e62c-43f6-a215-e5ea239f5627",
   "metadata": {},
   "outputs": [],
   "source": [
    "for name in names: # for each name in the list...\n",
    "    print(name) # ...print it"
   ]
  },
  {
   "cell_type": "code",
   "execution_count": null,
   "id": "dba3664b-cc1c-4d88-a099-2faf0edb5f2f",
   "metadata": {},
   "outputs": [],
   "source": [
    "print(*names) # * operator, aka \"unpack\" operator...unpacks the container into separate items"
   ]
  },
  {
   "cell_type": "code",
   "execution_count": null,
   "id": "e6a6171c-617d-46f4-b5fd-0ee5e9891d69",
   "metadata": {},
   "outputs": [],
   "source": [
    "print(names[0], names[1]) # tedious... but the above is equivalent to this"
   ]
  },
  {
   "cell_type": "code",
   "execution_count": null,
   "id": "2292af51-cfe9-4541-9969-1b6f7a4dbdfe",
   "metadata": {},
   "outputs": [],
   "source": [
    "print(*names, sep=', ')"
   ]
  },
  {
   "cell_type": "code",
   "execution_count": null,
   "id": "7774eab0-8c47-41eb-a5bd-1b9cd50b2109",
   "metadata": {},
   "outputs": [],
   "source": [
    "print(*names, sep='\\n')"
   ]
  },
  {
   "cell_type": "code",
   "execution_count": null,
   "id": "f6a36cf3-a044-408e-bb6b-37179554bcc8",
   "metadata": {},
   "outputs": [],
   "source": [
    "'string' == 'string'"
   ]
  },
  {
   "cell_type": "code",
   "execution_count": null,
   "id": "66d3d70f-4e75-4538-8f62-4face4566e87",
   "metadata": {},
   "outputs": [],
   "source": [
    "'string'.__eq__('string')"
   ]
  },
  {
   "cell_type": "code",
   "execution_count": null,
   "id": "3a233b90-dc6d-4ce2-a8b1-df1702a5bb6e",
   "metadata": {},
   "outputs": [],
   "source": [
    "0 == 0.0"
   ]
  },
  {
   "cell_type": "code",
   "execution_count": null,
   "id": "663134c9-557d-43e5-aefd-478380aea6dd",
   "metadata": {},
   "outputs": [],
   "source": [
    "num = 0.0"
   ]
  },
  {
   "cell_type": "code",
   "execution_count": null,
   "id": "8d6b4ab9-5e98-4519-9d95-0a28ed88a429",
   "metadata": {},
   "outputs": [],
   "source": [
    "num.__eq__(0)"
   ]
  },
  {
   "cell_type": "code",
   "execution_count": null,
   "id": "3fe05981-207d-4c7e-b7a6-c84531b70c02",
   "metadata": {},
   "outputs": [],
   "source": [
    "val = 1"
   ]
  },
  {
   "cell_type": "code",
   "execution_count": null,
   "id": "f544e1ec-bcf7-4372-b0cb-e3cb3a16eb6a",
   "metadata": {},
   "outputs": [],
   "source": [
    "val.__eq__(1)"
   ]
  },
  {
   "cell_type": "code",
   "execution_count": null,
   "id": "173bbeb8-9d9c-4ada-87eb-fdb62840eb6f",
   "metadata": {},
   "outputs": [],
   "source": [
    "val.__mul__(12)"
   ]
  },
  {
   "cell_type": "code",
   "execution_count": null,
   "id": "75700d06-1c5e-4be1-b990-1116f5a17325",
   "metadata": {},
   "outputs": [],
   "source": [
    "'string'.__mul__(2) # 'string' * 2"
   ]
  },
  {
   "cell_type": "code",
   "execution_count": null,
   "id": "c6f5244e-4775-4212-9525-6efd99ed66c1",
   "metadata": {},
   "outputs": [],
   "source": [
    "[1, 2, 3].__mul__(5) # [1, 2, 3] * 5"
   ]
  },
  {
   "cell_type": "code",
   "execution_count": null,
   "id": "791c55f0-1847-4d46-b62b-609d53de9bcb",
   "metadata": {},
   "outputs": [],
   "source": [
    "[1, 2, 3, 4] * [7, 8, 9]"
   ]
  },
  {
   "cell_type": "code",
   "execution_count": null,
   "id": "d8263526-383b-471c-82c6-39b0769b347e",
   "metadata": {},
   "outputs": [],
   "source": [
    "vars(ba)"
   ]
  },
  {
   "cell_type": "code",
   "execution_count": null,
   "id": "5ac233ab-5844-4c2a-a7f6-2a97f21325a6",
   "metadata": {},
   "outputs": [],
   "source": [
    "ba * 1.20 # \"multiply\" the account by 1.20, i.e., increase balance by 20%"
   ]
  },
  {
   "cell_type": "markdown",
   "id": "8d88cc46-f5c7-4bec-8ec2-b0ae9e02f1d2",
   "metadata": {},
   "source": [
    "## Lab: OO Programming\n",
    "1. Add a __\\_\\_`eq`\\_\\_()__ method to the BankAccount class\n",
    "  * How you define __\\_\\_`eq`\\_\\_()__ is up to you\n",
    "* Add a __\\_\\_`len`\\_\\_()__ method to the BankAccount class\n",
    "* Add a __\\_\\_`mul`\\_\\_()__ method to the BankAccount class\n",
    "  * it should create a new BankAccount which does something to the name and multiplies the balance by the second operand"
   ]
  },
  {
   "cell_type": "code",
   "execution_count": null,
   "id": "4995faf8-44cd-47e8-b34d-9fd931249452",
   "metadata": {},
   "outputs": [],
   "source": [
    "class BankAccount:\n",
    "    def __init__(self, name, initial_balance, has_been_multiplied=False):\n",
    "        self.name = name\n",
    "        self.balance = initial_balance\n",
    "        self.has_been_multiplied = has_been_multiplied\n",
    "\n",
    "        \n",
    "    def __repr__(self):\n",
    "        \"\"\"Produce a human readable version of the object.\n",
    "        __repr__ is used if __str__ does not exist\n",
    "        \"\"\"\n",
    "        addl_msg = '\\nYou are broke!' if self.balance == 0 else '\\nYou have money!'\n",
    "        return 'Owner: ' + str(self.name) + '\\nBalance: €' + str(self.balance) + addl_msg\n",
    "    \n",
    "    \n",
    "    def __eq__(self, other): # are 2 BankAccount objects the \"same\"\n",
    "        \"\"\"How to define same? Same balance? Same name? Both?\"\"\"\n",
    "        #return self.name == other.name # names are the same, or...\n",
    "        #return self.balance == other.balance # balances are the same, or...\n",
    "        return self.name == other.name and self.balance == other.balance\n",
    "    \n",
    "    \n",
    "    def __mul__(self, factor): # multiply balance by factor (float)\n",
    "        # return \"a new BankAccount with balance updated by factor, e.g., 1.2\"\n",
    "        # we can model this after __add__ which also returns a NEW object\n",
    "        return self.__class__(self.name, self.balance * factor, True)\n",
    "        # or better... return self.__class__(...)\n",
    "                \n",
    "                \n",
    "    def __len__(self):\n",
    "        \"\"\"Return the number of digits in the balance.\"\"\"\n",
    "        return len(str(self.balance))\n",
    "    \n",
    "    \n",
    "    def __add__(self, other): # self + some other object\n",
    "        \"\"\"Return a NEW bank account which represents a joint account.\"\"\"\n",
    "        new_balance = self.balance + other.balance\n",
    "        # make the balances of the two individual accounts = 0\n",
    "        self.balance = 0 # reflect that the money went into the joint account\n",
    "        other.balance = 0 # \"\n",
    "        return BankAccount2([self.name, other.name], new_balance)\n",
    "\n",
    "    '''\n",
    "    def __add__(self, other):\n",
    "        return \"You can't add two BankAccounts!\"\n",
    "    '''  \n",
    "        \n",
    "    def deposit(self, amount):\n",
    "        if amount > 0:\n",
    "            self.balance += amount\n",
    "            return self.balance\n",
    "        else:\n",
    "            raise ValueError(\"Amount to deposit must be positive.\")\n",
    "\n",
    "            \n",
    "    def withdraw(self, amount):\n",
    "        if amount > 0:\n",
    "            if amount <= self.balance:\n",
    "                self.balance -= amount\n",
    "                return self.balance\n",
    "            else:\n",
    "                raise ValueError(\"Can't withdraw that much or you'd be overdrawn!\")\n",
    "\n",
    "        else:\n",
    "            raise ValueError(\"Amount to withdraw must be positive.\")"
   ]
  },
  {
   "cell_type": "code",
   "execution_count": null,
   "id": "96fec84d-7f88-4529-a3a5-8df2c7faae3b",
   "metadata": {},
   "outputs": [],
   "source": [
    "ba1 = BankAccount('DaveW', 0)\n",
    "ba2 = BankAccount('DaveW', 100)"
   ]
  },
  {
   "cell_type": "code",
   "execution_count": null,
   "id": "7a21ab62-d18d-42aa-b940-24febd9ac17d",
   "metadata": {},
   "outputs": [],
   "source": [
    "print(ba1)"
   ]
  },
  {
   "cell_type": "code",
   "execution_count": null,
   "id": "8447da8f-583d-436e-ab3b-02649a4e60e7",
   "metadata": {},
   "outputs": [],
   "source": [
    "print(ba2)"
   ]
  },
  {
   "cell_type": "code",
   "execution_count": null,
   "id": "9467dad9-7fd2-41d1-9e8b-502863d89a4a",
   "metadata": {},
   "outputs": [],
   "source": [
    "ba1 == ba2"
   ]
  },
  {
   "cell_type": "code",
   "execution_count": null,
   "id": "6d2fec1a-7103-43c5-bf71-3be42235aaf4",
   "metadata": {},
   "outputs": [],
   "source": [
    "len(ba1)"
   ]
  },
  {
   "cell_type": "code",
   "execution_count": null,
   "id": "399e301c-5b0f-48e7-8976-9dda7f7c84d3",
   "metadata": {},
   "outputs": [],
   "source": [
    "ba1.deposit(1_000_000)"
   ]
  },
  {
   "cell_type": "code",
   "execution_count": null,
   "id": "7f3341bb-f8ed-4128-a06c-244ceaa99c64",
   "metadata": {},
   "outputs": [],
   "source": [
    "len(ba1)"
   ]
  },
  {
   "cell_type": "code",
   "execution_count": null,
   "id": "c0e84595-c112-4956-a9e3-fe24f3317dce",
   "metadata": {},
   "outputs": [],
   "source": [
    "ba1 == ba2"
   ]
  },
  {
   "cell_type": "code",
   "execution_count": null,
   "id": "496d036b-563b-4256-ba8b-b47235ea328b",
   "metadata": {},
   "outputs": [],
   "source": [
    "ba2 * 1.2"
   ]
  },
  {
   "cell_type": "code",
   "execution_count": null,
   "id": "0a92f42f-4cb8-4ecd-ac37-e9d74fab65c9",
   "metadata": {},
   "outputs": [],
   "source": [
    "ba1"
   ]
  },
  {
   "cell_type": "code",
   "execution_count": null,
   "id": "4f76d3f4-5fd3-483e-84a0-76f322c69907",
   "metadata": {},
   "outputs": [],
   "source": [
    "mul(ba1, 1.2)"
   ]
  },
  {
   "cell_type": "code",
   "execution_count": null,
   "id": "4ff4cbc9-f100-4613-878b-767925fd3f73",
   "metadata": {},
   "outputs": [],
   "source": [
    "try:\n",
    "    ba1.deposit(-5)\n",
    "except ValueError:\n",
    "    print('come on, pay attention!')"
   ]
  },
  {
   "cell_type": "code",
   "execution_count": null,
   "id": "f2c1acc9-b4fa-4c1b-9ce5-5a7d06e36173",
   "metadata": {},
   "outputs": [],
   "source": [
    "# How does Python a == b == c, a + b + c"
   ]
  },
  {
   "cell_type": "code",
   "execution_count": null,
   "id": "c4ef7899-f579-42e6-971f-a474e7c9a3d4",
   "metadata": {},
   "outputs": [],
   "source": [
    "(1 == 2 - 1) == 3 - 2"
   ]
  },
  {
   "cell_type": "code",
   "execution_count": null,
   "id": "9353bdef-2f59-4bb4-a8e8-0f3ba0ae3351",
   "metadata": {},
   "outputs": [],
   "source": [
    "(1 == 2 - 1)"
   ]
  },
  {
   "cell_type": "code",
   "execution_count": null,
   "id": "bdea4f92-0b93-4759-9e08-904c103520c9",
   "metadata": {},
   "outputs": [],
   "source": [
    "1 == 3 - 2"
   ]
  },
  {
   "cell_type": "code",
   "execution_count": null,
   "id": "2a5f2d24-3fc7-4df5-a617-e738f32889fb",
   "metadata": {},
   "outputs": [],
   "source": [
    "1 + 2 + 3"
   ]
  },
  {
   "cell_type": "code",
   "execution_count": null,
   "id": "ee3f3bf5-723c-4e00-8cb7-ef5b5887eb1f",
   "metadata": {},
   "outputs": [],
   "source": [
    "(1 + 2) + 3"
   ]
  },
  {
   "cell_type": "code",
   "execution_count": null,
   "id": "ecddc27e-d06a-4bb6-bfef-f3ebc01faea0",
   "metadata": {},
   "outputs": [],
   "source": [
    "3 + 3"
   ]
  },
  {
   "cell_type": "code",
   "execution_count": null,
   "id": "a49f50f0-3a55-4b59-9d39-a81b907860d4",
   "metadata": {},
   "outputs": [],
   "source": [
    "ba1 == ba2 == ba3"
   ]
  },
  {
   "cell_type": "code",
   "execution_count": null,
   "id": "c295f042-a85a-4e72-b3ae-76871c048dfc",
   "metadata": {},
   "outputs": [],
   "source": [
    "ba2.name == ba3.name"
   ]
  },
  {
   "cell_type": "code",
   "execution_count": null,
   "id": "4fddce70-ce94-4dd3-8101-a834948bac4e",
   "metadata": {},
   "outputs": [],
   "source": [
    "2 * 4"
   ]
  },
  {
   "cell_type": "code",
   "execution_count": null,
   "id": "058952c7-fef9-4a3d-98e2-a1817727d3f3",
   "metadata": {},
   "outputs": [],
   "source": [
    "num = 2"
   ]
  },
  {
   "cell_type": "code",
   "execution_count": null,
   "id": "973ef0c2-bad7-4027-9b6e-50983583347f",
   "metadata": {},
   "outputs": [],
   "source": [
    "num * 4"
   ]
  },
  {
   "cell_type": "code",
   "execution_count": null,
   "id": "ac45121d-f91f-42ff-94ac-573a46c2641a",
   "metadata": {},
   "outputs": [],
   "source": [
    "'string' * 4"
   ]
  },
  {
   "cell_type": "code",
   "execution_count": null,
   "id": "7c17196b-83b6-40f8-8b97-542def730827",
   "metadata": {},
   "outputs": [],
   "source": [
    "[1] * 4"
   ]
  },
  {
   "cell_type": "code",
   "execution_count": null,
   "id": "7d58862c-ac14-43d7-ba49-e302e456b071",
   "metadata": {},
   "outputs": [],
   "source": [
    "100 * 1.2"
   ]
  },
  {
   "cell_type": "code",
   "execution_count": null,
   "id": "616b9ec1-31e3-4c5a-9c04-586a245743f8",
   "metadata": {},
   "outputs": [],
   "source": [
    ".1 + .1 + .1"
   ]
  },
  {
   "cell_type": "code",
   "execution_count": null,
   "id": "31685096-afe9-47b7-aedb-c4d7e3872eff",
   "metadata": {},
   "outputs": [],
   "source": [
    "ba1"
   ]
  },
  {
   "cell_type": "code",
   "execution_count": null,
   "id": "a2a20dfc-e017-4d5d-ad88-b622023feae4",
   "metadata": {},
   "outputs": [],
   "source": [
    "ba1.balance = 1000"
   ]
  },
  {
   "cell_type": "code",
   "execution_count": null,
   "id": "8a1223db-e857-425e-a0cf-b031640a7848",
   "metadata": {},
   "outputs": [],
   "source": [
    "ba1"
   ]
  },
  {
   "cell_type": "code",
   "execution_count": null,
   "id": "2fcf40d1-846c-40ec-9ddb-8ef6f7b43186",
   "metadata": {},
   "outputs": [],
   "source": [
    "my_bank_account = ['DaveW', 100.0]"
   ]
  },
  {
   "cell_type": "code",
   "execution_count": null,
   "id": "f92cf03a-777b-4221-88dc-ae689c8d3b6a",
   "metadata": {},
   "outputs": [],
   "source": [
    "print(my_bank_account)"
   ]
  },
  {
   "cell_type": "code",
   "execution_count": null,
   "id": "9d9a04f0-9301-4b16-8af9-30e98edd0203",
   "metadata": {},
   "outputs": [],
   "source": [
    "print(my_bank_account[1])"
   ]
  },
  {
   "cell_type": "code",
   "execution_count": null,
   "id": "e53e49f7-6d62-4a84-af33-727cd08a1667",
   "metadata": {},
   "outputs": [],
   "source": [
    "my_bank_account[1] += 10 # deposit"
   ]
  },
  {
   "cell_type": "code",
   "execution_count": null,
   "id": "351096d8-8663-455e-9562-d3bda4e989ec",
   "metadata": {},
   "outputs": [],
   "source": [
    "print(my_bank_account[1])"
   ]
  },
  {
   "cell_type": "code",
   "execution_count": 450,
   "id": "13d3681b-7552-43a4-9bee-bfbce3c742f5",
   "metadata": {},
   "outputs": [
    {
     "data": {
      "text/plain": [
       "True"
      ]
     },
     "execution_count": 450,
     "metadata": {},
     "output_type": "execute_result"
    }
   ],
   "source": [
    "'apple' < 'fig'"
   ]
  },
  {
   "cell_type": "code",
   "execution_count": 451,
   "id": "77288fdf-f56b-4583-8d9f-ab6d475e7ab0",
   "metadata": {},
   "outputs": [
    {
     "data": {
      "text/plain": [
       "False"
      ]
     },
     "execution_count": 451,
     "metadata": {},
     "output_type": "execute_result"
    }
   ],
   "source": [
    "'fig' < 'apple'"
   ]
  },
  {
   "cell_type": "code",
   "execution_count": 452,
   "id": "197a4a29-2d1b-4109-8c9d-52dad499cb45",
   "metadata": {},
   "outputs": [
    {
     "data": {
      "text/plain": [
       "True"
      ]
     },
     "execution_count": 452,
     "metadata": {},
     "output_type": "execute_result"
    }
   ],
   "source": [
    "len('fig') < len('apple')"
   ]
  },
  {
   "cell_type": "code",
   "execution_count": 456,
   "id": "1d9a84fe-3675-4dfd-9ca8-bf77f7827ad1",
   "metadata": {},
   "outputs": [],
   "source": [
    "def compare(string1, string2):\n",
    "    return len(string1) < len(string2)"
   ]
  },
  {
   "cell_type": "code",
   "execution_count": 457,
   "id": "b0e08ebb-6dc7-4bb6-af7c-16cf9d98a768",
   "metadata": {},
   "outputs": [
    {
     "data": {
      "text/plain": [
       "True"
      ]
     },
     "execution_count": 457,
     "metadata": {},
     "output_type": "execute_result"
    }
   ],
   "source": [
    "compare('fig', 'apple') # 'fig' < 'apple'"
   ]
  },
  {
   "cell_type": "code",
   "execution_count": 458,
   "id": "e44ad537-1cb2-4528-ab23-39323033148d",
   "metadata": {},
   "outputs": [
    {
     "data": {
      "text/plain": [
       "False"
      ]
     },
     "execution_count": 458,
     "metadata": {},
     "output_type": "execute_result"
    }
   ],
   "source": [
    "compare('strawberry', 'apple')"
   ]
  },
  {
   "cell_type": "code",
   "execution_count": 460,
   "id": "e7664df6-7730-4c50-ba8c-c9490677110f",
   "metadata": {},
   "outputs": [],
   "source": [
    "class MyInt(int): # creates a new type, MyInt, inherited from int\n",
    "    pass"
   ]
  },
  {
   "cell_type": "code",
   "execution_count": 461,
   "id": "7672511d-eaa3-42a4-a78a-994f5b432bd7",
   "metadata": {},
   "outputs": [],
   "source": [
    "num = MyInt(5)"
   ]
  },
  {
   "cell_type": "code",
   "execution_count": 462,
   "id": "7c467250-7fc7-4203-b34e-09c7fd61704b",
   "metadata": {},
   "outputs": [
    {
     "name": "stdout",
     "output_type": "stream",
     "text": [
      "5\n"
     ]
    }
   ],
   "source": [
    "print(num)"
   ]
  },
  {
   "cell_type": "code",
   "execution_count": 463,
   "id": "03417696-b742-41ab-bf98-0b291041df0b",
   "metadata": {},
   "outputs": [
    {
     "data": {
      "text/plain": [
       "390"
      ]
     },
     "execution_count": 463,
     "metadata": {},
     "output_type": "execute_result"
    }
   ],
   "source": [
    "num * 78"
   ]
  },
  {
   "cell_type": "code",
   "execution_count": 464,
   "id": "8267db11-f025-42eb-b39d-1097c3e20486",
   "metadata": {},
   "outputs": [
    {
     "data": {
      "text/plain": [
       "__main__.MyInt"
      ]
     },
     "execution_count": 464,
     "metadata": {},
     "output_type": "execute_result"
    }
   ],
   "source": [
    "type(num)"
   ]
  },
  {
   "cell_type": "code",
   "execution_count": 465,
   "id": "17ebd3fb-c987-4180-80b7-4eb460e5c0fc",
   "metadata": {},
   "outputs": [],
   "source": [
    "class Word(str):\n",
    "    def __lt__(self, other):\n",
    "        # compute length of each Word (string)\n",
    "        # ask if length of first Word < length of second Word\n",
    "        print(self, '<', other, '=', len(self) < len(other))\n",
    "        return len(self) < len(other)"
   ]
  },
  {
   "cell_type": "code",
   "execution_count": 466,
   "id": "a07ff532-bfbc-46e3-9b91-47cbf4221b88",
   "metadata": {},
   "outputs": [],
   "source": [
    "apple = Word('apple')"
   ]
  },
  {
   "cell_type": "code",
   "execution_count": 467,
   "id": "768c312c-73fa-4f0d-8ac4-12aa608d111e",
   "metadata": {},
   "outputs": [],
   "source": [
    "fig = Word('fig')"
   ]
  },
  {
   "cell_type": "code",
   "execution_count": 468,
   "id": "3824134f-4f91-4c06-85ad-62f99b3ec995",
   "metadata": {},
   "outputs": [
    {
     "name": "stdout",
     "output_type": "stream",
     "text": [
      "apple < fig = False\n"
     ]
    },
    {
     "data": {
      "text/plain": [
       "False"
      ]
     },
     "execution_count": 468,
     "metadata": {},
     "output_type": "execute_result"
    }
   ],
   "source": [
    "apple < fig"
   ]
  },
  {
   "cell_type": "code",
   "execution_count": 469,
   "id": "b7d97f07-6356-40ba-9e33-a8aeaa645cf5",
   "metadata": {},
   "outputs": [
    {
     "data": {
      "text/plain": [
       "False"
      ]
     },
     "execution_count": 469,
     "metadata": {},
     "output_type": "execute_result"
    }
   ],
   "source": [
    "apple > fig"
   ]
  },
  {
   "cell_type": "code",
   "execution_count": 470,
   "id": "67fe86ba-e238-48ce-b1fa-a36955770f13",
   "metadata": {},
   "outputs": [
    {
     "data": {
      "text/plain": [
       "False"
      ]
     },
     "execution_count": 470,
     "metadata": {},
     "output_type": "execute_result"
    }
   ],
   "source": [
    "[1, 2, 3] == [3, 1, 2]"
   ]
  },
  {
   "cell_type": "code",
   "execution_count": 471,
   "id": "170db394-2759-4244-a23e-a9807eb3d50a",
   "metadata": {},
   "outputs": [
    {
     "data": {
      "text/plain": [
       "True"
      ]
     },
     "execution_count": 471,
     "metadata": {},
     "output_type": "execute_result"
    }
   ],
   "source": [
    "[1, 2, 3] == [1.0, 2.0, 3.0]"
   ]
  },
  {
   "cell_type": "code",
   "execution_count": 473,
   "id": "1e7dae90-a0cb-48a9-ba5a-92ead2079804",
   "metadata": {},
   "outputs": [
    {
     "data": {
      "text/plain": [
       "False"
      ]
     },
     "execution_count": 473,
     "metadata": {},
     "output_type": "execute_result"
    }
   ],
   "source": [
    "[1, 2, 3] == [1, 2, 3, 4]"
   ]
  },
  {
   "cell_type": "code",
   "execution_count": 474,
   "id": "0a4d51a2-4945-4c8a-aa50-444b905f88ff",
   "metadata": {},
   "outputs": [
    {
     "data": {
      "text/plain": [
       "True"
      ]
     },
     "execution_count": 474,
     "metadata": {},
     "output_type": "execute_result"
    }
   ],
   "source": [
    "len([1, 2, 3]) == len([3, 1, 2])"
   ]
  },
  {
   "cell_type": "code",
   "execution_count": 475,
   "id": "d2cb139f-a3a8-45c7-8b14-cd1f855a4f84",
   "metadata": {},
   "outputs": [
    {
     "data": {
      "text/plain": [
       "True"
      ]
     },
     "execution_count": 475,
     "metadata": {},
     "output_type": "execute_result"
    }
   ],
   "source": [
    "len([1, 2, 3]) == len([3, 1, -2])"
   ]
  },
  {
   "cell_type": "code",
   "execution_count": 483,
   "id": "70f5a4d5-8150-40d0-a75b-63cfab048762",
   "metadata": {},
   "outputs": [],
   "source": [
    "list1 = [1, 2, 3]\n",
    "list2 = [3, 1, 2]"
   ]
  },
  {
   "cell_type": "code",
   "execution_count": 478,
   "id": "d0424be0-efc4-4dc5-a237-25491608554b",
   "metadata": {},
   "outputs": [
    {
     "data": {
      "text/plain": [
       "False"
      ]
     },
     "execution_count": 478,
     "metadata": {},
     "output_type": "execute_result"
    }
   ],
   "source": [
    "list1 == list2"
   ]
  },
  {
   "cell_type": "code",
   "execution_count": 479,
   "id": "9c403e64-b714-46f2-afa4-e9a2cd1a9cbc",
   "metadata": {},
   "outputs": [
    {
     "name": "stdout",
     "output_type": "stream",
     "text": [
      "[1, 2, 3]\n",
      "[3, 1, 2]\n"
     ]
    }
   ],
   "source": [
    "print(list1, list2, sep='\\n')"
   ]
  },
  {
   "cell_type": "code",
   "execution_count": 480,
   "id": "ed3bc304-77a2-4cd7-889b-5734221fc392",
   "metadata": {},
   "outputs": [],
   "source": [
    "list1.sort() # changes\n",
    "list2.sort() # changes"
   ]
  },
  {
   "cell_type": "code",
   "execution_count": 481,
   "id": "035e1eb4-63b0-4191-b986-fe9725067cf0",
   "metadata": {},
   "outputs": [
    {
     "data": {
      "text/plain": [
       "True"
      ]
     },
     "execution_count": 481,
     "metadata": {},
     "output_type": "execute_result"
    }
   ],
   "source": [
    "list1 == list2"
   ]
  },
  {
   "cell_type": "code",
   "execution_count": 482,
   "id": "08d244b5-17a9-4880-8953-148fe1492d85",
   "metadata": {},
   "outputs": [
    {
     "name": "stdout",
     "output_type": "stream",
     "text": [
      "[1, 2, 3]\n",
      "[1, 2, 3]\n"
     ]
    }
   ],
   "source": [
    "print(list1, list2, sep='\\n')"
   ]
  },
  {
   "cell_type": "code",
   "execution_count": 486,
   "id": "0cdf3b55-29c5-45b4-8955-88a3c12d9234",
   "metadata": {},
   "outputs": [
    {
     "data": {
      "text/plain": [
       "[1, 2, 3]"
      ]
     },
     "execution_count": 486,
     "metadata": {},
     "output_type": "execute_result"
    }
   ],
   "source": [
    "sorted(list1)"
   ]
  },
  {
   "cell_type": "code",
   "execution_count": 487,
   "id": "16f3e40c-17d2-4a7d-9a5b-3bf8b53ef163",
   "metadata": {},
   "outputs": [
    {
     "data": {
      "text/plain": [
       "[1, 2, 3]"
      ]
     },
     "execution_count": 487,
     "metadata": {},
     "output_type": "execute_result"
    }
   ],
   "source": [
    "sorted(list2)"
   ]
  },
  {
   "cell_type": "code",
   "execution_count": 489,
   "id": "51270bf3-c209-4478-8f61-24b2a2887b19",
   "metadata": {},
   "outputs": [
    {
     "data": {
      "text/plain": [
       "True"
      ]
     },
     "execution_count": 489,
     "metadata": {},
     "output_type": "execute_result"
    }
   ],
   "source": [
    "sorted(list1) == sorted(list2)"
   ]
  },
  {
   "cell_type": "code",
   "execution_count": 490,
   "id": "225ce481-8ad9-4573-8641-524c20a31259",
   "metadata": {},
   "outputs": [
    {
     "name": "stdout",
     "output_type": "stream",
     "text": [
      "[1, 2, 3]\n",
      "[3, 1, 2]\n"
     ]
    }
   ],
   "source": [
    "print(list1, list2, sep='\\n')"
   ]
  },
  {
   "cell_type": "code",
   "execution_count": 502,
   "id": "77af3db6-4a43-4bf6-ad77-954eb72dc63d",
   "metadata": {},
   "outputs": [],
   "source": [
    "fruits = 'apple fig pear'.split()"
   ]
  },
  {
   "cell_type": "code",
   "execution_count": 503,
   "id": "bb1ac61c-86b8-47b6-92b3-c4b57f390c26",
   "metadata": {},
   "outputs": [
    {
     "data": {
      "text/plain": [
       "['apple', 'fig', 'pear']"
      ]
     },
     "execution_count": 503,
     "metadata": {},
     "output_type": "execute_result"
    }
   ],
   "source": [
    "fruits"
   ]
  },
  {
   "cell_type": "code",
   "execution_count": 501,
   "id": "77e3dc72-d3f4-4438-aab4-33046613e3c3",
   "metadata": {},
   "outputs": [],
   "source": [
    "if 'fig' in fruits:\n",
    "    fruits.remove('fig')"
   ]
  },
  {
   "cell_type": "code",
   "execution_count": 495,
   "id": "76bc36ae-863e-4daa-8d13-7509018c5726",
   "metadata": {},
   "outputs": [
    {
     "data": {
      "text/plain": [
       "['apple', 'pear']"
      ]
     },
     "execution_count": 495,
     "metadata": {},
     "output_type": "execute_result"
    }
   ],
   "source": [
    "fruits"
   ]
  },
  {
   "cell_type": "code",
   "execution_count": 504,
   "id": "846dd01e-d948-4b16-b602-73bceef98ec7",
   "metadata": {},
   "outputs": [],
   "source": [
    "fruits = set(fruits)"
   ]
  },
  {
   "cell_type": "code",
   "execution_count": 505,
   "id": "5c15e6c1-5fd9-4841-98d4-95e41000c800",
   "metadata": {},
   "outputs": [
    {
     "data": {
      "text/plain": [
       "{'apple', 'fig', 'pear'}"
      ]
     },
     "execution_count": 505,
     "metadata": {},
     "output_type": "execute_result"
    }
   ],
   "source": [
    "fruits"
   ]
  },
  {
   "cell_type": "code",
   "execution_count": 510,
   "id": "9446de8a-4868-4b2a-b194-3b9fefc07229",
   "metadata": {},
   "outputs": [],
   "source": [
    "fruits.discard('fig')"
   ]
  },
  {
   "cell_type": "code",
   "execution_count": 511,
   "id": "7bb091c9-f669-44d6-9fce-feded4b91946",
   "metadata": {},
   "outputs": [
    {
     "data": {
      "text/plain": [
       "{'apple', 'pear'}"
      ]
     },
     "execution_count": 511,
     "metadata": {},
     "output_type": "execute_result"
    }
   ],
   "source": [
    "fruits"
   ]
  },
  {
   "cell_type": "markdown",
   "id": "74330056-8626-44f3-a11c-18c5cf6f8547",
   "metadata": {},
   "source": [
    "# Lab: Inheritance\n",
    "* create a type called FunnyList which has all the chocolately goodness of a list, but adds the following wrinkle:\n",
    "  * if two lists have same items but in different orders, they are considered equal\n",
    "  * e.g., __`[1, 2, 3]`__ == __`[3, 1, 2]`__\n",
    "* create a list class which has a __`.discard()`__ method analogous to the one in the set class"
   ]
  },
  {
   "cell_type": "code",
   "execution_count": 556,
   "id": "634aeb41-133a-4fac-83cd-d9857654e0b1",
   "metadata": {},
   "outputs": [],
   "source": [
    "class FunnyList(list): # inherit from list\n",
    "    # override the == operator\n",
    "    def __eq__(self, other): # two lists...\"we\" are self, the other list is other\n",
    "        try:\n",
    "            return sorted(self) == sorted(other)\n",
    "        except TypeError: # this means lists were heterogeneous\n",
    "            raise NotImplementedError('Cannot compare heterogeneous lists!')"
   ]
  },
  {
   "cell_type": "code",
   "execution_count": 528,
   "id": "ac20f66b-f297-4e3b-84c7-f82f483bdcad",
   "metadata": {},
   "outputs": [
    {
     "name": "stdout",
     "output_type": "stream",
     "text": [
      "[1, 2, 3]\n",
      "[3, 1, 2]\n"
     ]
    }
   ],
   "source": [
    "print(list1, list2, sep='\\n')"
   ]
  },
  {
   "cell_type": "code",
   "execution_count": 529,
   "id": "04c382cd-adba-4098-99f1-02ba33b5fe7f",
   "metadata": {},
   "outputs": [
    {
     "name": "stdout",
     "output_type": "stream",
     "text": [
      "[1, 2, 3]\n",
      "[3, 1, 2]\n"
     ]
    }
   ],
   "source": [
    "fl1 = FunnyList(list1) # FunnyList-ifying list1\n",
    "fl2 = FunnyList(list2) # FunnyList-ifying list2\n",
    "print(fl1, fl2, sep='\\n')"
   ]
  },
  {
   "cell_type": "code",
   "execution_count": 530,
   "id": "82f02200-bcd8-42b5-9e1d-07c86ab962db",
   "metadata": {},
   "outputs": [
    {
     "data": {
      "text/plain": [
       "False"
      ]
     },
     "execution_count": 530,
     "metadata": {},
     "output_type": "execute_result"
    }
   ],
   "source": [
    "list1 == list2"
   ]
  },
  {
   "cell_type": "code",
   "execution_count": 531,
   "id": "0fed7bac-e544-439e-a51a-aedcfcb091c2",
   "metadata": {},
   "outputs": [
    {
     "name": "stdout",
     "output_type": "stream",
     "text": [
      "comparing sorted versions of the two FunnyLists\n"
     ]
    },
    {
     "data": {
      "text/plain": [
       "True"
      ]
     },
     "execution_count": 531,
     "metadata": {},
     "output_type": "execute_result"
    }
   ],
   "source": [
    "fl1 == fl2"
   ]
  },
  {
   "cell_type": "code",
   "execution_count": 532,
   "id": "e7b05789-1788-43b2-9975-fe85ccb90145",
   "metadata": {},
   "outputs": [
    {
     "data": {
      "text/plain": [
       "[1, 2, 3]"
      ]
     },
     "execution_count": 532,
     "metadata": {},
     "output_type": "execute_result"
    }
   ],
   "source": [
    "sorted([1, 3, 2])"
   ]
  },
  {
   "cell_type": "code",
   "execution_count": 533,
   "id": "9cab35bf-d06b-4027-b81d-97905df4d3e8",
   "metadata": {},
   "outputs": [
    {
     "data": {
      "text/plain": [
       "['apple', 'fig', 'pear']"
      ]
     },
     "execution_count": 533,
     "metadata": {},
     "output_type": "execute_result"
    }
   ],
   "source": [
    "sorted(['fig', 'pear', 'apple'])"
   ]
  },
  {
   "cell_type": "code",
   "execution_count": 534,
   "id": "9d6deb37-e3c2-4957-b889-bc367e67e8ca",
   "metadata": {},
   "outputs": [
    {
     "ename": "TypeError",
     "evalue": "'<' not supported between instances of 'str' and 'int'",
     "output_type": "error",
     "traceback": [
      "\u001b[0;31m---------------------------------------------------------------------------\u001b[0m",
      "\u001b[0;31mTypeError\u001b[0m                                 Traceback (most recent call last)",
      "Input \u001b[0;32mIn [534]\u001b[0m, in \u001b[0;36m<cell line: 1>\u001b[0;34m()\u001b[0m\n\u001b[0;32m----> 1\u001b[0m \u001b[38;5;28;43msorted\u001b[39;49m\u001b[43m(\u001b[49m\u001b[43m[\u001b[49m\u001b[38;5;241;43m1\u001b[39;49m\u001b[43m,\u001b[49m\u001b[43m \u001b[49m\u001b[38;5;241;43m2\u001b[39;49m\u001b[43m,\u001b[49m\u001b[43m \u001b[49m\u001b[38;5;124;43m'\u001b[39;49m\u001b[38;5;124;43mthree\u001b[39;49m\u001b[38;5;124;43m'\u001b[39;49m\u001b[43m]\u001b[49m\u001b[43m)\u001b[49m\n",
      "\u001b[0;31mTypeError\u001b[0m: '<' not supported between instances of 'str' and 'int'"
     ]
    }
   ],
   "source": [
    "sorted([1, 2, 'three'])"
   ]
  },
  {
   "cell_type": "code",
   "execution_count": 557,
   "id": "f57e62e0-d34d-434e-abbd-004476ee8503",
   "metadata": {},
   "outputs": [],
   "source": [
    "fl1 = FunnyList([1, 2, 'three'])\n",
    "fl2 = FunnyList([1, 2, 'three'])"
   ]
  },
  {
   "cell_type": "code",
   "execution_count": 558,
   "id": "f824317c-8412-44bf-9ee5-8130b5c46eee",
   "metadata": {},
   "outputs": [
    {
     "data": {
      "text/plain": [
       "True"
      ]
     },
     "execution_count": 558,
     "metadata": {},
     "output_type": "execute_result"
    }
   ],
   "source": [
    "[1, 2, 'three'] == [1, 2, 'three']"
   ]
  },
  {
   "cell_type": "code",
   "execution_count": 559,
   "id": "0beff113-2fd5-49fc-8b91-49bd7c03a2bc",
   "metadata": {},
   "outputs": [
    {
     "ename": "NotImplementedError",
     "evalue": "Cannot compare heterogeneous lists!",
     "output_type": "error",
     "traceback": [
      "\u001b[0;31m---------------------------------------------------------------------------\u001b[0m",
      "\u001b[0;31mTypeError\u001b[0m                                 Traceback (most recent call last)",
      "Input \u001b[0;32mIn [556]\u001b[0m, in \u001b[0;36mFunnyList.__eq__\u001b[0;34m(self, other)\u001b[0m\n\u001b[1;32m      4\u001b[0m \u001b[38;5;28;01mtry\u001b[39;00m:\n\u001b[0;32m----> 5\u001b[0m     \u001b[38;5;28;01mreturn\u001b[39;00m \u001b[38;5;28;43msorted\u001b[39;49m\u001b[43m(\u001b[49m\u001b[38;5;28;43mself\u001b[39;49m\u001b[43m)\u001b[49m \u001b[38;5;241m==\u001b[39m \u001b[38;5;28msorted\u001b[39m(other)\n\u001b[1;32m      6\u001b[0m \u001b[38;5;28;01mexcept\u001b[39;00m \u001b[38;5;167;01mTypeError\u001b[39;00m: \u001b[38;5;66;03m# this means lists were heterogeneous\u001b[39;00m\n",
      "\u001b[0;31mTypeError\u001b[0m: '<' not supported between instances of 'str' and 'int'",
      "\nDuring handling of the above exception, another exception occurred:\n",
      "\u001b[0;31mNotImplementedError\u001b[0m                       Traceback (most recent call last)",
      "Input \u001b[0;32mIn [559]\u001b[0m, in \u001b[0;36m<cell line: 1>\u001b[0;34m()\u001b[0m\n\u001b[0;32m----> 1\u001b[0m \u001b[43mfl1\u001b[49m\u001b[43m \u001b[49m\u001b[38;5;241;43m==\u001b[39;49m\u001b[43m \u001b[49m\u001b[43mfl2\u001b[49m\n",
      "Input \u001b[0;32mIn [556]\u001b[0m, in \u001b[0;36mFunnyList.__eq__\u001b[0;34m(self, other)\u001b[0m\n\u001b[1;32m      5\u001b[0m     \u001b[38;5;28;01mreturn\u001b[39;00m \u001b[38;5;28msorted\u001b[39m(\u001b[38;5;28mself\u001b[39m) \u001b[38;5;241m==\u001b[39m \u001b[38;5;28msorted\u001b[39m(other)\n\u001b[1;32m      6\u001b[0m \u001b[38;5;28;01mexcept\u001b[39;00m \u001b[38;5;167;01mTypeError\u001b[39;00m: \u001b[38;5;66;03m# this means lists were heterogeneous\u001b[39;00m\n\u001b[0;32m----> 7\u001b[0m     \u001b[38;5;28;01mraise\u001b[39;00m \u001b[38;5;167;01mNotImplementedError\u001b[39;00m(\u001b[38;5;124m'\u001b[39m\u001b[38;5;124mCannot compare heterogeneous lists!\u001b[39m\u001b[38;5;124m'\u001b[39m)\n",
      "\u001b[0;31mNotImplementedError\u001b[0m: Cannot compare heterogeneous lists!"
     ]
    }
   ],
   "source": [
    "fl1 == fl2"
   ]
  },
  {
   "cell_type": "code",
   "execution_count": 562,
   "id": "513bdbb9-f548-4666-9d79-b8df797d3800",
   "metadata": {},
   "outputs": [],
   "source": [
    "class BetterList(list): # inherit from list\n",
    "    \"\"\"This BetterList type inherits from built-in lists and adds a .discard() method, like\n",
    "    the one in the set class.\n",
    "    \"\"\"\n",
    "    def discard(self, item):\n",
    "        \"\"\"Remove the item, if it's the list, otherwise do nothing.\"\"\"\n",
    "        if item in self: # is item in the list?\n",
    "            self.remove(item) # no problem, because it's in the list\n",
    "        else:\n",
    "            print('nothing to do')"
   ]
  },
  {
   "cell_type": "code",
   "execution_count": 564,
   "id": "50ad5147-e774-4f34-b2da-b6e10b1e36a7",
   "metadata": {},
   "outputs": [],
   "source": [
    "fruits = 'apple fig pear'.split()"
   ]
  },
  {
   "cell_type": "code",
   "execution_count": 565,
   "id": "6c47742e-cf82-4b63-9f8a-076ee98e6456",
   "metadata": {},
   "outputs": [
    {
     "ename": "ValueError",
     "evalue": "list.remove(x): x not in list",
     "output_type": "error",
     "traceback": [
      "\u001b[0;31m---------------------------------------------------------------------------\u001b[0m",
      "\u001b[0;31mValueError\u001b[0m                                Traceback (most recent call last)",
      "Input \u001b[0;32mIn [565]\u001b[0m, in \u001b[0;36m<cell line: 1>\u001b[0;34m()\u001b[0m\n\u001b[0;32m----> 1\u001b[0m \u001b[43mfruits\u001b[49m\u001b[38;5;241;43m.\u001b[39;49m\u001b[43mremove\u001b[49m\u001b[43m(\u001b[49m\u001b[38;5;124;43m'\u001b[39;49m\u001b[38;5;124;43mpineapple\u001b[39;49m\u001b[38;5;124;43m'\u001b[39;49m\u001b[43m)\u001b[49m\n",
      "\u001b[0;31mValueError\u001b[0m: list.remove(x): x not in list"
     ]
    }
   ],
   "source": [
    "fruits.remove('pineapple')"
   ]
  },
  {
   "cell_type": "code",
   "execution_count": 566,
   "id": "0f8f463e-96e3-4a97-9396-bdf3319d9a06",
   "metadata": {},
   "outputs": [],
   "source": [
    "better_fruits = BetterList(fruits)"
   ]
  },
  {
   "cell_type": "code",
   "execution_count": 569,
   "id": "2ee0bc2d-2029-46cd-bb59-f0e36d61faf3",
   "metadata": {},
   "outputs": [],
   "source": [
    "better_fruits.discard('apple')"
   ]
  },
  {
   "cell_type": "code",
   "execution_count": 571,
   "id": "d9ce3853-1b76-4736-9a4c-d458fe6eafe1",
   "metadata": {},
   "outputs": [
    {
     "name": "stdout",
     "output_type": "stream",
     "text": [
      "nothing to do\n"
     ]
    }
   ],
   "source": [
    "better_fruits.discard('apple')"
   ]
  },
  {
   "cell_type": "code",
   "execution_count": 584,
   "id": "6feb9d55-993d-450e-a2bb-182060cafab4",
   "metadata": {},
   "outputs": [],
   "source": [
    "my_list = [1, 2, 3] * 100"
   ]
  },
  {
   "cell_type": "code",
   "execution_count": 585,
   "id": "ef15828c-e9c6-4d55-8e65-c9e02d80473d",
   "metadata": {},
   "outputs": [
    {
     "name": "stdout",
     "output_type": "stream",
     "text": [
      "[1, 2, 3, 1, 2, 3, 1, 2, 3, 1, 2, 3, 1, 2, 3, 1, 2, 3, 1, 2, 3, 1, 2, 3, 1, 2, 3, 1, 2, 3, 1, 2, 3, 1, 2, 3, 1, 2, 3, 1, 2, 3, 1, 2, 3, 1, 2, 3, 1, 2, 3, 1, 2, 3, 1, 2, 3, 1, 2, 3, 1, 2, 3, 1, 2, 3, 1, 2, 3, 1, 2, 3, 1, 2, 3, 1, 2, 3, 1, 2, 3, 1, 2, 3, 1, 2, 3, 1, 2, 3, 1, 2, 3, 1, 2, 3, 1, 2, 3, 1, 2, 3, 1, 2, 3, 1, 2, 3, 1, 2, 3, 1, 2, 3, 1, 2, 3, 1, 2, 3, 1, 2, 3, 1, 2, 3, 1, 2, 3, 1, 2, 3, 1, 2, 3, 1, 2, 3, 1, 2, 3, 1, 2, 3, 1, 2, 3, 1, 2, 3, 1, 2, 3, 1, 2, 3, 1, 2, 3, 1, 2, 3, 1, 2, 3, 1, 2, 3, 1, 2, 3, 1, 2, 3, 1, 2, 3, 1, 2, 3, 1, 2, 3, 1, 2, 3, 1, 2, 3, 1, 2, 3, 1, 2, 3, 1, 2, 3, 1, 2, 3, 1, 2, 3, 1, 2, 3, 1, 2, 3, 1, 2, 3, 1, 2, 3, 1, 2, 3, 1, 2, 3, 1, 2, 3, 1, 2, 3, 1, 2, 3, 1, 2, 3, 1, 2, 3, 1, 2, 3, 1, 2, 3, 1, 2, 3, 1, 2, 3, 1, 2, 3, 1, 2, 3, 1, 2, 3, 1, 2, 3, 1, 2, 3, 1, 2, 3, 1, 2, 3, 1, 2, 3, 1, 2, 3, 1, 2, 3, 1, 2, 3, 1, 2, 3, 1, 2, 3, 1, 2, 3, 1, 2, 3, 1, 2, 3, 1, 2, 3]\n"
     ]
    }
   ],
   "source": [
    "print(my_list)"
   ]
  },
  {
   "cell_type": "code",
   "execution_count": 586,
   "id": "4e867002-18d5-4dcf-a470-8dc97797fa71",
   "metadata": {},
   "outputs": [],
   "source": [
    "my_list.remove(1)"
   ]
  },
  {
   "cell_type": "code",
   "execution_count": 587,
   "id": "1152f33e-fb87-4ce2-a6ce-483cec72f6db",
   "metadata": {},
   "outputs": [
    {
     "name": "stdout",
     "output_type": "stream",
     "text": [
      "[2, 3, 1, 2, 3, 1, 2, 3, 1, 2, 3, 1, 2, 3, 1, 2, 3, 1, 2, 3, 1, 2, 3, 1, 2, 3, 1, 2, 3, 1, 2, 3, 1, 2, 3, 1, 2, 3, 1, 2, 3, 1, 2, 3, 1, 2, 3, 1, 2, 3, 1, 2, 3, 1, 2, 3, 1, 2, 3, 1, 2, 3, 1, 2, 3, 1, 2, 3, 1, 2, 3, 1, 2, 3, 1, 2, 3, 1, 2, 3, 1, 2, 3, 1, 2, 3, 1, 2, 3, 1, 2, 3, 1, 2, 3, 1, 2, 3, 1, 2, 3, 1, 2, 3, 1, 2, 3, 1, 2, 3, 1, 2, 3, 1, 2, 3, 1, 2, 3, 1, 2, 3, 1, 2, 3, 1, 2, 3, 1, 2, 3, 1, 2, 3, 1, 2, 3, 1, 2, 3, 1, 2, 3, 1, 2, 3, 1, 2, 3, 1, 2, 3, 1, 2, 3, 1, 2, 3, 1, 2, 3, 1, 2, 3, 1, 2, 3, 1, 2, 3, 1, 2, 3, 1, 2, 3, 1, 2, 3, 1, 2, 3, 1, 2, 3, 1, 2, 3, 1, 2, 3, 1, 2, 3, 1, 2, 3, 1, 2, 3, 1, 2, 3, 1, 2, 3, 1, 2, 3, 1, 2, 3, 1, 2, 3, 1, 2, 3, 1, 2, 3, 1, 2, 3, 1, 2, 3, 1, 2, 3, 1, 2, 3, 1, 2, 3, 1, 2, 3, 1, 2, 3, 1, 2, 3, 1, 2, 3, 1, 2, 3, 1, 2, 3, 1, 2, 3, 1, 2, 3, 1, 2, 3, 1, 2, 3, 1, 2, 3, 1, 2, 3, 1, 2, 3, 1, 2, 3, 1, 2, 3, 1, 2, 3, 1, 2, 3, 1, 2, 3, 1, 2, 3, 1, 2, 3, 1, 2, 3]\n"
     ]
    }
   ],
   "source": [
    "print(my_list)"
   ]
  },
  {
   "cell_type": "code",
   "execution_count": 596,
   "id": "bb7210d0-9c6d-49c1-94d9-2a7d7c2193d1",
   "metadata": {},
   "outputs": [],
   "source": [
    "class BetterList(list): # inherit from list\n",
    "    \"\"\"This BetterList type inherits from built-in lists and adds a .discard() method, like\n",
    "    the one in the set class.\n",
    "    \"\"\"\n",
    "    def discard(self, item):\n",
    "        \"\"\"Remove the item, if it's the list, otherwise do nothing.\"\"\"\n",
    "        if item in self: # is item in the list?\n",
    "            self.remove(item) # no problem, because it's in the list\n",
    "        else:\n",
    "            print('nothing to do')\n",
    "    \n",
    "    def remove_all(self, item):\n",
    "        count = self.count(item) # ask Python to count the number of times item is in the list\n",
    "        \n",
    "        for _ in range(count): # do this count times\n",
    "            self.remove(item) # each call removes one item\n",
    "            \n",
    "        return count\n",
    "    \n",
    "    def append_plus_len(self, item):\n",
    "        self.append(item) # lean on the append() method in the list class\n",
    "        return len(self)"
   ]
  },
  {
   "cell_type": "code",
   "execution_count": 597,
   "id": "eff57c16-c3fe-42d9-a12a-2c4e83143252",
   "metadata": {},
   "outputs": [],
   "source": [
    "my_better_list = BetterList(my_list)"
   ]
  },
  {
   "cell_type": "code",
   "execution_count": 598,
   "id": "cf4d1617-a0e9-4e9d-a54a-f5b3cc6fca8c",
   "metadata": {},
   "outputs": [
    {
     "name": "stdout",
     "output_type": "stream",
     "text": [
      "[2, 3, 1, 2, 3, 1, 2, 3, 1, 2, 3, 1, 2, 3, 1, 2, 3, 1, 2, 3, 1, 2, 3, 1, 2, 3, 1, 2, 3, 1, 2, 3, 1, 2, 3, 1, 2, 3, 1, 2, 3, 1, 2, 3, 1, 2, 3, 1, 2, 3, 1, 2, 3, 1, 2, 3, 1, 2, 3, 1, 2, 3, 1, 2, 3, 1, 2, 3, 1, 2, 3, 1, 2, 3, 1, 2, 3, 1, 2, 3, 1, 2, 3, 1, 2, 3, 1, 2, 3, 1, 2, 3, 1, 2, 3, 1, 2, 3, 1, 2, 3, 1, 2, 3, 1, 2, 3, 1, 2, 3, 1, 2, 3, 1, 2, 3, 1, 2, 3, 1, 2, 3, 1, 2, 3, 1, 2, 3, 1, 2, 3, 1, 2, 3, 1, 2, 3, 1, 2, 3, 1, 2, 3, 1, 2, 3, 1, 2, 3, 1, 2, 3, 1, 2, 3, 1, 2, 3, 1, 2, 3, 1, 2, 3, 1, 2, 3, 1, 2, 3, 1, 2, 3, 1, 2, 3, 1, 2, 3, 1, 2, 3, 1, 2, 3, 1, 2, 3, 1, 2, 3, 1, 2, 3, 1, 2, 3, 1, 2, 3, 1, 2, 3, 1, 2, 3, 1, 2, 3, 1, 2, 3, 1, 2, 3, 1, 2, 3, 1, 2, 3, 1, 2, 3, 1, 2, 3, 1, 2, 3, 1, 2, 3, 1, 2, 3, 1, 2, 3, 1, 2, 3, 1, 2, 3, 1, 2, 3, 1, 2, 3, 1, 2, 3, 1, 2, 3, 1, 2, 3, 1, 2, 3, 1, 2, 3, 1, 2, 3, 1, 2, 3, 1, 2, 3, 1, 2, 3, 1, 2, 3, 1, 2, 3, 1, 2, 3, 1, 2, 3, 1, 2, 3, 1, 2, 3, 1, 2, 3, 123]\n"
     ]
    }
   ],
   "source": [
    "print(my_better_list)"
   ]
  },
  {
   "cell_type": "code",
   "execution_count": 599,
   "id": "fe5c850e-c5f3-4b8f-a4d2-0cae89326a77",
   "metadata": {},
   "outputs": [
    {
     "data": {
      "text/plain": [
       "99"
      ]
     },
     "execution_count": 599,
     "metadata": {},
     "output_type": "execute_result"
    }
   ],
   "source": [
    "my_better_list.remove_all(1)"
   ]
  },
  {
   "cell_type": "code",
   "execution_count": 600,
   "id": "7a12d6ac-9a93-4b1b-ad06-1a07325dbf7d",
   "metadata": {},
   "outputs": [
    {
     "name": "stdout",
     "output_type": "stream",
     "text": [
      "[2, 3, 2, 3, 2, 3, 2, 3, 2, 3, 2, 3, 2, 3, 2, 3, 2, 3, 2, 3, 2, 3, 2, 3, 2, 3, 2, 3, 2, 3, 2, 3, 2, 3, 2, 3, 2, 3, 2, 3, 2, 3, 2, 3, 2, 3, 2, 3, 2, 3, 2, 3, 2, 3, 2, 3, 2, 3, 2, 3, 2, 3, 2, 3, 2, 3, 2, 3, 2, 3, 2, 3, 2, 3, 2, 3, 2, 3, 2, 3, 2, 3, 2, 3, 2, 3, 2, 3, 2, 3, 2, 3, 2, 3, 2, 3, 2, 3, 2, 3, 2, 3, 2, 3, 2, 3, 2, 3, 2, 3, 2, 3, 2, 3, 2, 3, 2, 3, 2, 3, 2, 3, 2, 3, 2, 3, 2, 3, 2, 3, 2, 3, 2, 3, 2, 3, 2, 3, 2, 3, 2, 3, 2, 3, 2, 3, 2, 3, 2, 3, 2, 3, 2, 3, 2, 3, 2, 3, 2, 3, 2, 3, 2, 3, 2, 3, 2, 3, 2, 3, 2, 3, 2, 3, 2, 3, 2, 3, 2, 3, 2, 3, 2, 3, 2, 3, 2, 3, 2, 3, 2, 3, 2, 3, 2, 3, 2, 3, 2, 3, 123]\n"
     ]
    }
   ],
   "source": [
    "print(my_better_list)"
   ]
  },
  {
   "cell_type": "code",
   "execution_count": 603,
   "id": "a6cc9919-a5b4-4de5-bec8-ca2053524dcf",
   "metadata": {},
   "outputs": [],
   "source": [
    "my_better_list.append(1234)"
   ]
  },
  {
   "cell_type": "code",
   "execution_count": 604,
   "id": "0ca9a7e7-3b96-4101-a881-df6ff1616a8f",
   "metadata": {},
   "outputs": [
    {
     "name": "stdout",
     "output_type": "stream",
     "text": [
      "[2, 3, 2, 3, 2, 3, 2, 3, 2, 3, 2, 3, 2, 3, 2, 3, 2, 3, 2, 3, 2, 3, 2, 3, 2, 3, 2, 3, 2, 3, 2, 3, 2, 3, 2, 3, 2, 3, 2, 3, 2, 3, 2, 3, 2, 3, 2, 3, 2, 3, 2, 3, 2, 3, 2, 3, 2, 3, 2, 3, 2, 3, 2, 3, 2, 3, 2, 3, 2, 3, 2, 3, 2, 3, 2, 3, 2, 3, 2, 3, 2, 3, 2, 3, 2, 3, 2, 3, 2, 3, 2, 3, 2, 3, 2, 3, 2, 3, 2, 3, 2, 3, 2, 3, 2, 3, 2, 3, 2, 3, 2, 3, 2, 3, 2, 3, 2, 3, 2, 3, 2, 3, 2, 3, 2, 3, 2, 3, 2, 3, 2, 3, 2, 3, 2, 3, 2, 3, 2, 3, 2, 3, 2, 3, 2, 3, 2, 3, 2, 3, 2, 3, 2, 3, 2, 3, 2, 3, 2, 3, 2, 3, 2, 3, 2, 3, 2, 3, 2, 3, 2, 3, 2, 3, 2, 3, 2, 3, 2, 3, 2, 3, 2, 3, 2, 3, 2, 3, 2, 3, 2, 3, 2, 3, 2, 3, 2, 3, 2, 3, 123, 1234]\n"
     ]
    }
   ],
   "source": [
    "print(my_better_list)"
   ]
  },
  {
   "cell_type": "code",
   "execution_count": 605,
   "id": "6f605074-4019-45bf-8bb3-055f9f08f50c",
   "metadata": {},
   "outputs": [],
   "source": [
    "my_better_list.append(12345)"
   ]
  },
  {
   "cell_type": "code",
   "execution_count": 606,
   "id": "a93a4275-7574-4db9-89f9-7b97418a9c20",
   "metadata": {},
   "outputs": [
    {
     "name": "stdout",
     "output_type": "stream",
     "text": [
      "[2, 3, 2, 3, 2, 3, 2, 3, 2, 3, 2, 3, 2, 3, 2, 3, 2, 3, 2, 3, 2, 3, 2, 3, 2, 3, 2, 3, 2, 3, 2, 3, 2, 3, 2, 3, 2, 3, 2, 3, 2, 3, 2, 3, 2, 3, 2, 3, 2, 3, 2, 3, 2, 3, 2, 3, 2, 3, 2, 3, 2, 3, 2, 3, 2, 3, 2, 3, 2, 3, 2, 3, 2, 3, 2, 3, 2, 3, 2, 3, 2, 3, 2, 3, 2, 3, 2, 3, 2, 3, 2, 3, 2, 3, 2, 3, 2, 3, 2, 3, 2, 3, 2, 3, 2, 3, 2, 3, 2, 3, 2, 3, 2, 3, 2, 3, 2, 3, 2, 3, 2, 3, 2, 3, 2, 3, 2, 3, 2, 3, 2, 3, 2, 3, 2, 3, 2, 3, 2, 3, 2, 3, 2, 3, 2, 3, 2, 3, 2, 3, 2, 3, 2, 3, 2, 3, 2, 3, 2, 3, 2, 3, 2, 3, 2, 3, 2, 3, 2, 3, 2, 3, 2, 3, 2, 3, 2, 3, 2, 3, 2, 3, 2, 3, 2, 3, 2, 3, 2, 3, 2, 3, 2, 3, 2, 3, 2, 3, 2, 3, 123, 1234, 12345]\n"
     ]
    }
   ],
   "source": [
    "print(my_better_list)"
   ]
  },
  {
   "cell_type": "code",
   "execution_count": 608,
   "id": "28d0c464-4a1b-4a10-bba9-631ef8a662b9",
   "metadata": {},
   "outputs": [],
   "source": [
    "my_better_list.append(678)"
   ]
  },
  {
   "cell_type": "code",
   "execution_count": 609,
   "id": "a9461558-2f25-4f53-ba90-cda5d6cc295f",
   "metadata": {},
   "outputs": [
    {
     "data": {
      "text/plain": [
       "206"
      ]
     },
     "execution_count": 609,
     "metadata": {},
     "output_type": "execute_result"
    }
   ],
   "source": [
    "my_better_list.append_plus_len(789)"
   ]
  },
  {
   "cell_type": "code",
   "execution_count": 610,
   "id": "1143307f-4ac1-43c2-97cd-b5e565c6694d",
   "metadata": {},
   "outputs": [
    {
     "name": "stdout",
     "output_type": "stream",
     "text": [
      "[2, 3, 2, 3, 2, 3, 2, 3, 2, 3, 2, 3, 2, 3, 2, 3, 2, 3, 2, 3, 2, 3, 2, 3, 2, 3, 2, 3, 2, 3, 2, 3, 2, 3, 2, 3, 2, 3, 2, 3, 2, 3, 2, 3, 2, 3, 2, 3, 2, 3, 2, 3, 2, 3, 2, 3, 2, 3, 2, 3, 2, 3, 2, 3, 2, 3, 2, 3, 2, 3, 2, 3, 2, 3, 2, 3, 2, 3, 2, 3, 2, 3, 2, 3, 2, 3, 2, 3, 2, 3, 2, 3, 2, 3, 2, 3, 2, 3, 2, 3, 2, 3, 2, 3, 2, 3, 2, 3, 2, 3, 2, 3, 2, 3, 2, 3, 2, 3, 2, 3, 2, 3, 2, 3, 2, 3, 2, 3, 2, 3, 2, 3, 2, 3, 2, 3, 2, 3, 2, 3, 2, 3, 2, 3, 2, 3, 2, 3, 2, 3, 2, 3, 2, 3, 2, 3, 2, 3, 2, 3, 2, 3, 2, 3, 2, 3, 2, 3, 2, 3, 2, 3, 2, 3, 2, 3, 2, 3, 2, 3, 2, 3, 2, 3, 2, 3, 2, 3, 2, 3, 2, 3, 2, 3, 2, 3, 2, 3, 2, 3, 123, 1234, 12345, 678, 678, 789]\n"
     ]
    }
   ],
   "source": [
    "print(my_better_list)"
   ]
  },
  {
   "cell_type": "code",
   "execution_count": 615,
   "id": "2c9dda31-07cd-4026-806a-c9b7c7fb8027",
   "metadata": {},
   "outputs": [],
   "source": [
    "d = {}\n",
    "d['red'] = 13\n",
    "d['blue'] = 8\n",
    "d['green'] = 123"
   ]
  },
  {
   "cell_type": "code",
   "execution_count": 616,
   "id": "dfceac80-8ad2-43e4-8827-afb0b95e02b1",
   "metadata": {},
   "outputs": [
    {
     "data": {
      "text/plain": [
       "{'red': 13, 'blue': 8, 'green': 123}"
      ]
     },
     "execution_count": 616,
     "metadata": {},
     "output_type": "execute_result"
    }
   ],
   "source": [
    "d"
   ]
  },
  {
   "cell_type": "code",
   "execution_count": 619,
   "id": "5eb1dbd3-099e-4938-a506-89d65a9bec9e",
   "metadata": {},
   "outputs": [
    {
     "data": {
      "text/plain": [
       "13"
      ]
     },
     "execution_count": 619,
     "metadata": {},
     "output_type": "execute_result"
    }
   ],
   "source": [
    "d['red']"
   ]
  },
  {
   "cell_type": "code",
   "execution_count": 620,
   "id": "280c5fe7-d1a1-40f2-ad6f-be10cc39d26a",
   "metadata": {},
   "outputs": [
    {
     "ename": "KeyError",
     "evalue": "'reddy'",
     "output_type": "error",
     "traceback": [
      "\u001b[0;31m---------------------------------------------------------------------------\u001b[0m",
      "\u001b[0;31mKeyError\u001b[0m                                  Traceback (most recent call last)",
      "Input \u001b[0;32mIn [620]\u001b[0m, in \u001b[0;36m<cell line: 1>\u001b[0;34m()\u001b[0m\n\u001b[0;32m----> 1\u001b[0m \u001b[43md\u001b[49m\u001b[43m[\u001b[49m\u001b[38;5;124;43m'\u001b[39;49m\u001b[38;5;124;43mreddy\u001b[39;49m\u001b[38;5;124;43m'\u001b[39;49m\u001b[43m]\u001b[49m\n",
      "\u001b[0;31mKeyError\u001b[0m: 'reddy'"
     ]
    }
   ],
   "source": [
    "d['reddy']"
   ]
  },
  {
   "cell_type": "code",
   "execution_count": 622,
   "id": "346a0be7-6287-4db3-b055-64f1e06c33ac",
   "metadata": {},
   "outputs": [],
   "source": [
    "from collections import defaultdict # use a defaultdict from collections\n",
    "# fixes the crash above\n",
    "d = defaultdict(int) # create a default dict where values are expected to be ints"
   ]
  },
  {
   "cell_type": "code",
   "execution_count": 623,
   "id": "57f56428-e5b3-4898-a5dc-5054dd80c6a9",
   "metadata": {},
   "outputs": [],
   "source": [
    "d['red'] = 13\n",
    "d['blue'] = 8\n",
    "d['green'] = 123"
   ]
  },
  {
   "cell_type": "code",
   "execution_count": 624,
   "id": "69550558-65d8-4354-8568-4a85379ec291",
   "metadata": {},
   "outputs": [
    {
     "data": {
      "text/plain": [
       "defaultdict(int, {'red': 13, 'blue': 8, 'green': 123})"
      ]
     },
     "execution_count": 624,
     "metadata": {},
     "output_type": "execute_result"
    }
   ],
   "source": [
    "d"
   ]
  },
  {
   "cell_type": "code",
   "execution_count": 625,
   "id": "cf653fc2-10e9-4ee1-9153-493bf9e2d149",
   "metadata": {},
   "outputs": [
    {
     "data": {
      "text/plain": [
       "13"
      ]
     },
     "execution_count": 625,
     "metadata": {},
     "output_type": "execute_result"
    }
   ],
   "source": [
    "d['red']"
   ]
  },
  {
   "cell_type": "code",
   "execution_count": 626,
   "id": "e5b759ff-b978-463e-8206-959614e66514",
   "metadata": {},
   "outputs": [
    {
     "data": {
      "text/plain": [
       "0"
      ]
     },
     "execution_count": 626,
     "metadata": {},
     "output_type": "execute_result"
    }
   ],
   "source": [
    "d['reddy']"
   ]
  },
  {
   "cell_type": "code",
   "execution_count": 642,
   "id": "bbaa6985-90f2-43da-95bb-49e1c22111ad",
   "metadata": {},
   "outputs": [],
   "source": [
    "# dicts often used for counting\n",
    "letter_dict = {}"
   ]
  },
  {
   "cell_type": "code",
   "execution_count": 643,
   "id": "13071eb8-0b9f-4cfb-a052-1fa35607ae4b",
   "metadata": {},
   "outputs": [],
   "source": [
    "for letter in 'antidisestablishmentarianism':\n",
    "    if letter in letter_dict: # we have seen this letter before\n",
    "        letter_dict[letter] += 1\n",
    "    else: # we have not seen this letter before\n",
    "        letter_dict[letter] = 1"
   ]
  },
  {
   "cell_type": "code",
   "execution_count": 644,
   "id": "27aca40d-35df-4700-b9b7-27f30321b35b",
   "metadata": {},
   "outputs": [
    {
     "name": "stdout",
     "output_type": "stream",
     "text": [
      "{'a': 4, 'n': 3, 't': 3, 'i': 5, 'd': 1, 's': 4, 'e': 2, 'b': 1, 'l': 1, 'h': 1, 'm': 2, 'r': 1}\n"
     ]
    }
   ],
   "source": [
    "print(letter_dict)"
   ]
  },
  {
   "cell_type": "code",
   "execution_count": 645,
   "id": "1e046a32-179e-4e6e-b88c-160c1296e295",
   "metadata": {},
   "outputs": [],
   "source": [
    "from collections import Counter\n",
    "letter_counter = Counter('antidisestablishmentarianism')"
   ]
  },
  {
   "cell_type": "code",
   "execution_count": 647,
   "id": "e5b94b62-26ba-4d50-a5e2-db0988916702",
   "metadata": {},
   "outputs": [
    {
     "name": "stdout",
     "output_type": "stream",
     "text": [
      "Counter({'i': 5, 'a': 4, 's': 4, 'n': 3, 't': 3, 'e': 2, 'm': 2, 'd': 1, 'b': 1, 'l': 1, 'h': 1, 'r': 1})\n"
     ]
    }
   ],
   "source": [
    "print(letter_counter)"
   ]
  },
  {
   "cell_type": "code",
   "execution_count": 648,
   "id": "d0b3e793-650a-44d5-ac57-c99e7a9230e2",
   "metadata": {},
   "outputs": [],
   "source": [
    "letter_counter.update('monumental')"
   ]
  },
  {
   "cell_type": "code",
   "execution_count": 649,
   "id": "1f249bdb-aec5-414a-90ff-073d36d032ea",
   "metadata": {},
   "outputs": [
    {
     "name": "stdout",
     "output_type": "stream",
     "text": [
      "Counter({'a': 5, 'n': 5, 'i': 5, 't': 4, 's': 4, 'm': 4, 'e': 3, 'l': 2, 'd': 1, 'b': 1, 'h': 1, 'r': 1, 'o': 1, 'u': 1})\n"
     ]
    }
   ],
   "source": [
    "print(letter_counter)"
   ]
  },
  {
   "cell_type": "code",
   "execution_count": null,
   "id": "45a1de39-b224-4b6f-8d4e-4e619a679040",
   "metadata": {},
   "outputs": [],
   "source": []
  }
 ],
 "metadata": {
  "kernelspec": {
   "display_name": "Python 3 (ipykernel)",
   "language": "python",
   "name": "python3"
  },
  "language_info": {
   "codemirror_mode": {
    "name": "ipython",
    "version": 3
   },
   "file_extension": ".py",
   "mimetype": "text/x-python",
   "name": "python",
   "nbconvert_exporter": "python",
   "pygments_lexer": "ipython3",
   "version": "3.9.12"
  }
 },
 "nbformat": 4,
 "nbformat_minor": 5
}
